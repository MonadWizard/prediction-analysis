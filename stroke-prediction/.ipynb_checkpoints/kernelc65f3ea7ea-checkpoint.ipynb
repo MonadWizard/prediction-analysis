{
 "cells": [
  {
   "cell_type": "code",
   "execution_count": 1,
   "metadata": {
    "_cell_guid": "b1076dfc-b9ad-4769-8c92-a6c4dae69d19",
    "_uuid": "8f2839f25d086af736a60e9eeb907d3b93b6e0e5"
   },
   "outputs": [],
   "source": [
    "# This Python 3 environment comes with many helpful analytics libraries installed\n",
    "# It is defined by the kaggle/python docker image: https://github.com/kaggle/docker-python\n",
    "# For example, here's several helpful packages to load in \n",
    "\n",
    "import numpy as np # linear algebra\n",
    "import pandas as pd # data processing, CSV file I/O (e.g. pd.read_csv)\n",
    "\n",
    "# Input data files are available in the \"../input/\" directory.\n",
    "# For example, running this (by clicking run or pressing Shift+Enter) will list the files in the input directory\n",
    "\n",
    "import os\n",
    "# print(os.listdir(\"../input\"))\n",
    "\n",
    "# Any results you write to the current directory are saved as output."
   ]
  },
  {
   "cell_type": "code",
   "execution_count": 2,
   "metadata": {
    "_cell_guid": "79c7e3d0-c299-4dcb-8224-4455121ee9b0",
    "_uuid": "d629ff2d2480ee46fbb7e2d37f6b5fab8052498a"
   },
   "outputs": [],
   "source": [
    "dataset = pd.read_csv('train_2v.csv')"
   ]
  },
  {
   "cell_type": "code",
   "execution_count": 3,
   "metadata": {
    "_uuid": "9891e88fa3baa3c0ad0040e4df99acf494798e61"
   },
   "outputs": [
    {
     "name": "stderr",
     "output_type": "stream",
     "text": [
      "/home/monad/anaconda3/envs/tff/lib/python3.6/site-packages/sklearn/utils/deprecation.py:58: DeprecationWarning: Class Imputer is deprecated; Imputer was deprecated in version 0.20 and will be removed in 0.22. Import impute.SimpleImputer from sklearn instead.\n",
      "  warnings.warn(msg, category=DeprecationWarning)\n"
     ]
    }
   ],
   "source": [
    "from sklearn.model_selection import train_test_split\n",
    "from sklearn.preprocessing import LabelEncoder, Imputer\n",
    "labelEncoder = LabelEncoder()\n",
    "#removing the ID which may not be required for analysing and prediting \n",
    "x = dataset.iloc[:,1:-1]\n",
    "#getting the labels\n",
    "y = dataset.iloc[:,-1].values\n",
    "# filling the missing values in smoking_staus column with the maximum values \n",
    "x.smoking_status.fillna(x.smoking_status.dropna().max(), inplace=True)\n",
    "#convering muptiple categorical variables(>2) of a column to numerical\n",
    "work_type = pd.get_dummies(x.work_type)\n",
    "smoking_status = pd.get_dummies(x.smoking_status)\n",
    "#droping the categorical variables. Will be adding the converted numerical values of the column\n",
    "train = x.drop(['work_type', 'smoking_status'], axis =1)\n",
    "#joining the converted numerical values of the columns to the actual dataframe\n",
    "train= train.join(pd.DataFrame(work_type, index=train.index))\n",
    "train = train.join(pd.DataFrame(smoking_status, index=train.index))\n",
    "#converting the dataframe in numpy array\n",
    "x = train.values\n",
    "#converting the categorical variables to numerical variables\n",
    "x[:,0] = labelEncoder.fit_transform(x[:,0])\n",
    "x[:,4] = labelEncoder.fit_transform(x[:,4])\n",
    "x[:,5] = labelEncoder.fit_transform(x[:,6])\n",
    "#handling the missing numerical data by filling it with the mean of the column\n",
    "imputer = Imputer(missing_values = 'NaN', strategy = 'mean', axis = 0)\n",
    "imputer = imputer.fit(x[:,7:8])\n",
    "x[:,7:8] = imputer.transform(x[:,7:8])"
   ]
  },
  {
   "cell_type": "code",
   "execution_count": 4,
   "metadata": {
    "_uuid": "aff89ac1d7e9e0763a4d44d8386cca8b44a2ccfb"
   },
   "outputs": [],
   "source": [
    "#splitting the dataset into train and validation\n",
    "x_train, x_test, y_train, y_test = train_test_split(x , y , test_size=0.2)\n",
    "#using decision tree to classify the heart_stroke will come or not\n",
    "from sklearn import tree\n",
    "clf = tree.DecisionTreeClassifier()\n",
    "clf = clf.fit(x_train, y_train)"
   ]
  },
  {
   "cell_type": "code",
   "execution_count": 5,
   "metadata": {
    "_uuid": "66fe5efe83d999de912fd6d66bd19d0b72d1ac80"
   },
   "outputs": [
    {
     "name": "stdout",
     "output_type": "stream",
     "text": [
      "Accuracy:  96.27880184331798\n"
     ]
    }
   ],
   "source": [
    "# checking the accuracy on validation set\n",
    "count = 0\n",
    "for i in range(len(x_test)):\n",
    "    pre = clf.predict([x_test[i]])\n",
    "    if pre == y_test[i]:\n",
    "        count += 1\n",
    "print(\"Accuracy: \" , count/len(x_test)*100)"
   ]
  },
  {
   "cell_type": "code",
   "execution_count": 7,
   "metadata": {
    "_uuid": "8e3023a8fdb9f1c58b54d71d93d90e9aa2364df5"
   },
   "outputs": [
    {
     "name": "stderr",
     "output_type": "stream",
     "text": [
      "/home/monad/anaconda3/envs/tff/lib/python3.6/site-packages/sklearn/utils/deprecation.py:58: DeprecationWarning: Class Imputer is deprecated; Imputer was deprecated in version 0.20 and will be removed in 0.22. Import impute.SimpleImputer from sklearn instead.\n",
      "  warnings.warn(msg, category=DeprecationWarning)\n"
     ]
    }
   ],
   "source": [
    "#handing the missing and categorical data for test set\n",
    "test_dataset = pd.read_csv('test_2v.csv')\n",
    "x_test = test_dataset.iloc[:,1:]\n",
    "x_test.smoking_status.fillna(x_test.smoking_status.dropna().max(), inplace=True)\n",
    "test_work_type = pd.get_dummies(x_test.work_type)\n",
    "test_smoking_status = pd.get_dummies(x_test.smoking_status)\n",
    "test = x_test.drop(['work_type', 'smoking_status'], axis =1)\n",
    "test = test.join(pd.DataFrame(test_work_type, index=test.index))\n",
    "test = test.join(pd.DataFrame(test_smoking_status, index=test.index))\n",
    "x_test = test.values\n",
    "x_test[:,0] = labelEncoder.fit_transform(x_test[:,0])\n",
    "x_test[:,4] = labelEncoder.fit_transform(x_test[:,4])\n",
    "x_test[:,5] = labelEncoder.fit_transform(x_test[:,6])\n",
    "imputer = Imputer(missing_values = 'NaN', strategy = 'mean', axis = 0)\n",
    "imputer = imputer.fit(x_test[:,7:8])\n",
    "x_test[:,7:8] = imputer.transform(x_test[:,7:8])"
   ]
  },
  {
   "cell_type": "code",
   "execution_count": 8,
   "metadata": {
    "_uuid": "f420cde78f2d457607e1a609838fdf5d7265285a"
   },
   "outputs": [],
   "source": [
    "#writing the prediction on test set on a csv file\n",
    "file = open('submission.csv','w')\n",
    "file.write('Prediction'+'\\n')\n",
    "for i in x_test:\n",
    "    prediction = clf.predict([i])\n",
    "    file.write(str(prediction).replace(\"[\",\"\").replace(\"]\",\"\") + '\\n')\n",
    "file.close()"
   ]
  },
  {
   "cell_type": "code",
   "execution_count": null,
   "metadata": {
    "_uuid": "8927a67c000bb1792bd987ca3b738c7dd6c80291"
   },
   "outputs": [],
   "source": []
  },
  {
   "cell_type": "code",
   "execution_count": null,
   "metadata": {
    "_uuid": "c8fab95eec7a17bad2782d0f2d489c020d16bda3"
   },
   "outputs": [],
   "source": []
  },
  {
   "cell_type": "code",
   "execution_count": null,
   "metadata": {
    "_uuid": "5683eb4447127b36a58eaaf4c7353fb2ad1cd23b"
   },
   "outputs": [],
   "source": []
  },
  {
   "cell_type": "code",
   "execution_count": null,
   "metadata": {
    "_uuid": "7802739d28e1208c50802cd2b9ecc30f79f73dc1"
   },
   "outputs": [],
   "source": []
  }
 ],
 "metadata": {
  "kernelspec": {
   "display_name": "Python 3",
   "language": "python",
   "name": "python3"
  },
  "language_info": {
   "codemirror_mode": {
    "name": "ipython",
    "version": 3
   },
   "file_extension": ".py",
   "mimetype": "text/x-python",
   "name": "python",
   "nbconvert_exporter": "python",
   "pygments_lexer": "ipython3",
   "version": "3.6.10"
  }
 },
 "nbformat": 4,
 "nbformat_minor": 1
}
