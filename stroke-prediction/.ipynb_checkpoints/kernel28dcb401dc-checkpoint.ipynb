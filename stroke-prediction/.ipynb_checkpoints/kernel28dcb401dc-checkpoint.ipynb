{
 "cells": [
  {
   "cell_type": "code",
   "execution_count": 1,
   "metadata": {
    "_cell_guid": "b1076dfc-b9ad-4769-8c92-a6c4dae69d19",
    "_uuid": "8f2839f25d086af736a60e9eeb907d3b93b6e0e5"
   },
   "outputs": [],
   "source": [
    "# This Python 3 environment comes with many helpful analytics libraries installed\n",
    "# It is defined by the kaggle/python docker image: https://github.com/kaggle/docker-python\n",
    "# For example, here's several helpful packages to load in \n",
    "\n",
    "import numpy as np # linear algebra\n",
    "import pandas as pd # data processing, CSV file I/O (e.g. pd.read_csv)\n",
    "\n",
    "# Input data files are available in the \"../input/\" directory.\n",
    "# For example, running this (by clicking run or pressing Shift+Enter) will list all files under the input directory\n",
    "\n",
    "import os\n",
    "\n",
    "\n",
    "# Any results you write to the current directory are saved as output."
   ]
  },
  {
   "cell_type": "code",
   "execution_count": 2,
   "metadata": {},
   "outputs": [],
   "source": [
    "from sklearn.model_selection import KFold\n",
    "from sklearn.metrics import precision_recall_fscore_support\n",
    "from sklearn.svm import SVC\n",
    "from sklearn import preprocessing\n",
    "from sklearn.tree import DecisionTreeClassifier\n",
    "from sklearn.impute import SimpleImputer\n",
    "from sklearn.model_selection import train_test_split\n",
    "from sklearn.ensemble import VotingClassifier\n",
    "from sklearn.linear_model import LogisticRegression\n",
    "from sklearn.ensemble import RandomForestClassifier\n",
    "from sklearn.neighbors import KNeighborsClassifier\n",
    "from sklearn.model_selection import KFold\n",
    "from sklearn.preprocessing import LabelEncoder\n",
    "from sklearn.preprocessing import StandardScaler\n",
    "from sklearn.metrics import f1_score\n",
    "from sklearn.metrics import confusion_matrix\n",
    "import seaborn as sns\n",
    "import matplotlib.pyplot as plt\n",
    "import pandas as pd \n",
    "import numpy as np "
   ]
  },
  {
   "cell_type": "code",
   "execution_count": 3,
   "metadata": {},
   "outputs": [],
   "source": [
    "test = pd.read_csv(\"test_2v.csv\")\n",
    "train = pd.read_csv(\"train_2v.csv\")"
   ]
  },
  {
   "cell_type": "code",
   "execution_count": 4,
   "metadata": {},
   "outputs": [],
   "source": [
    "ImputedModule = SimpleImputer(missing_values = np.nan, strategy ='most_frequent')\n",
    "ImputedX = ImputedModule.fit(train)\n",
    "train = ImputedX.transform(train)\n",
    "df_train =  pd.DataFrame(train)\n",
    "#print(df_train.head(5))\n",
    "#print(df_train.shape)\n",
    "\n",
    "ImputedModule = SimpleImputer(missing_values = np.nan, strategy ='most_frequent')\n",
    "ImputedX = ImputedModule.fit(test)\n",
    "test = ImputedX.transform(test)\n",
    "df_test =  pd.DataFrame(test)\n",
    "#print(df_test.head(5))\n",
    "#print(df_test.shape)"
   ]
  },
  {
   "cell_type": "code",
   "execution_count": 6,
   "metadata": {},
   "outputs": [
    {
     "ename": "KeyError",
     "evalue": "1",
     "output_type": "error",
     "traceback": [
      "\u001b[0;31m---------------------------------------------------------------------------\u001b[0m",
      "\u001b[0;31mKeyError\u001b[0m                                  Traceback (most recent call last)",
      "\u001b[0;32m~/anaconda3/envs/tff/lib/python3.6/site-packages/pandas/core/indexes/base.py\u001b[0m in \u001b[0;36mget_loc\u001b[0;34m(self, key, method, tolerance)\u001b[0m\n\u001b[1;32m   2645\u001b[0m             \u001b[0;32mtry\u001b[0m\u001b[0;34m:\u001b[0m\u001b[0;34m\u001b[0m\u001b[0;34m\u001b[0m\u001b[0m\n\u001b[0;32m-> 2646\u001b[0;31m                 \u001b[0;32mreturn\u001b[0m \u001b[0mself\u001b[0m\u001b[0;34m.\u001b[0m\u001b[0m_engine\u001b[0m\u001b[0;34m.\u001b[0m\u001b[0mget_loc\u001b[0m\u001b[0;34m(\u001b[0m\u001b[0mkey\u001b[0m\u001b[0;34m)\u001b[0m\u001b[0;34m\u001b[0m\u001b[0;34m\u001b[0m\u001b[0m\n\u001b[0m\u001b[1;32m   2647\u001b[0m             \u001b[0;32mexcept\u001b[0m \u001b[0mKeyError\u001b[0m\u001b[0;34m:\u001b[0m\u001b[0;34m\u001b[0m\u001b[0;34m\u001b[0m\u001b[0m\n",
      "\u001b[0;32mpandas/_libs/index.pyx\u001b[0m in \u001b[0;36mpandas._libs.index.IndexEngine.get_loc\u001b[0;34m()\u001b[0m\n",
      "\u001b[0;32mpandas/_libs/index.pyx\u001b[0m in \u001b[0;36mpandas._libs.index.IndexEngine.get_loc\u001b[0;34m()\u001b[0m\n",
      "\u001b[0;32mpandas/_libs/hashtable_class_helper.pxi\u001b[0m in \u001b[0;36mpandas._libs.hashtable.PyObjectHashTable.get_item\u001b[0;34m()\u001b[0m\n",
      "\u001b[0;32mpandas/_libs/hashtable_class_helper.pxi\u001b[0m in \u001b[0;36mpandas._libs.hashtable.PyObjectHashTable.get_item\u001b[0;34m()\u001b[0m\n",
      "\u001b[0;31mKeyError\u001b[0m: 1",
      "\nDuring handling of the above exception, another exception occurred:\n",
      "\u001b[0;31mKeyError\u001b[0m                                  Traceback (most recent call last)",
      "\u001b[0;32m<ipython-input-6-f8c47cc1d311>\u001b[0m in \u001b[0;36m<module>\u001b[0;34m\u001b[0m\n\u001b[1;32m      1\u001b[0m \u001b[0menc1\u001b[0m  \u001b[0;34m=\u001b[0m \u001b[0mLabelEncoder\u001b[0m\u001b[0;34m(\u001b[0m\u001b[0;34m)\u001b[0m\u001b[0;34m\u001b[0m\u001b[0;34m\u001b[0m\u001b[0m\n\u001b[0;32m----> 2\u001b[0;31m \u001b[0menc1\u001b[0m\u001b[0;34m.\u001b[0m\u001b[0mfit\u001b[0m\u001b[0;34m(\u001b[0m\u001b[0mdf_train\u001b[0m\u001b[0;34m[\u001b[0m\u001b[0;36m1\u001b[0m\u001b[0;34m]\u001b[0m\u001b[0;34m)\u001b[0m\u001b[0;34m\u001b[0m\u001b[0;34m\u001b[0m\u001b[0m\n\u001b[0m\u001b[1;32m      3\u001b[0m \u001b[0;34m\u001b[0m\u001b[0m\n\u001b[1;32m      4\u001b[0m \u001b[0;31m#print('classed found : ' , list(enc1.classes_))\u001b[0m\u001b[0;34m\u001b[0m\u001b[0;34m\u001b[0m\u001b[0;34m\u001b[0m\u001b[0m\n\u001b[1;32m      5\u001b[0m \u001b[0;31m#print('equivilant numbers are : ' ,enc1.transform(df_train[1]) )\u001b[0m\u001b[0;34m\u001b[0m\u001b[0;34m\u001b[0m\u001b[0;34m\u001b[0m\u001b[0m\n",
      "\u001b[0;32m~/anaconda3/envs/tff/lib/python3.6/site-packages/pandas/core/frame.py\u001b[0m in \u001b[0;36m__getitem__\u001b[0;34m(self, key)\u001b[0m\n\u001b[1;32m   2798\u001b[0m             \u001b[0;32mif\u001b[0m \u001b[0mself\u001b[0m\u001b[0;34m.\u001b[0m\u001b[0mcolumns\u001b[0m\u001b[0;34m.\u001b[0m\u001b[0mnlevels\u001b[0m \u001b[0;34m>\u001b[0m \u001b[0;36m1\u001b[0m\u001b[0;34m:\u001b[0m\u001b[0;34m\u001b[0m\u001b[0;34m\u001b[0m\u001b[0m\n\u001b[1;32m   2799\u001b[0m                 \u001b[0;32mreturn\u001b[0m \u001b[0mself\u001b[0m\u001b[0;34m.\u001b[0m\u001b[0m_getitem_multilevel\u001b[0m\u001b[0;34m(\u001b[0m\u001b[0mkey\u001b[0m\u001b[0;34m)\u001b[0m\u001b[0;34m\u001b[0m\u001b[0;34m\u001b[0m\u001b[0m\n\u001b[0;32m-> 2800\u001b[0;31m             \u001b[0mindexer\u001b[0m \u001b[0;34m=\u001b[0m \u001b[0mself\u001b[0m\u001b[0;34m.\u001b[0m\u001b[0mcolumns\u001b[0m\u001b[0;34m.\u001b[0m\u001b[0mget_loc\u001b[0m\u001b[0;34m(\u001b[0m\u001b[0mkey\u001b[0m\u001b[0;34m)\u001b[0m\u001b[0;34m\u001b[0m\u001b[0;34m\u001b[0m\u001b[0m\n\u001b[0m\u001b[1;32m   2801\u001b[0m             \u001b[0;32mif\u001b[0m \u001b[0mis_integer\u001b[0m\u001b[0;34m(\u001b[0m\u001b[0mindexer\u001b[0m\u001b[0;34m)\u001b[0m\u001b[0;34m:\u001b[0m\u001b[0;34m\u001b[0m\u001b[0;34m\u001b[0m\u001b[0m\n\u001b[1;32m   2802\u001b[0m                 \u001b[0mindexer\u001b[0m \u001b[0;34m=\u001b[0m \u001b[0;34m[\u001b[0m\u001b[0mindexer\u001b[0m\u001b[0;34m]\u001b[0m\u001b[0;34m\u001b[0m\u001b[0;34m\u001b[0m\u001b[0m\n",
      "\u001b[0;32m~/anaconda3/envs/tff/lib/python3.6/site-packages/pandas/core/indexes/base.py\u001b[0m in \u001b[0;36mget_loc\u001b[0;34m(self, key, method, tolerance)\u001b[0m\n\u001b[1;32m   2646\u001b[0m                 \u001b[0;32mreturn\u001b[0m \u001b[0mself\u001b[0m\u001b[0;34m.\u001b[0m\u001b[0m_engine\u001b[0m\u001b[0;34m.\u001b[0m\u001b[0mget_loc\u001b[0m\u001b[0;34m(\u001b[0m\u001b[0mkey\u001b[0m\u001b[0;34m)\u001b[0m\u001b[0;34m\u001b[0m\u001b[0;34m\u001b[0m\u001b[0m\n\u001b[1;32m   2647\u001b[0m             \u001b[0;32mexcept\u001b[0m \u001b[0mKeyError\u001b[0m\u001b[0;34m:\u001b[0m\u001b[0;34m\u001b[0m\u001b[0;34m\u001b[0m\u001b[0m\n\u001b[0;32m-> 2648\u001b[0;31m                 \u001b[0;32mreturn\u001b[0m \u001b[0mself\u001b[0m\u001b[0;34m.\u001b[0m\u001b[0m_engine\u001b[0m\u001b[0;34m.\u001b[0m\u001b[0mget_loc\u001b[0m\u001b[0;34m(\u001b[0m\u001b[0mself\u001b[0m\u001b[0;34m.\u001b[0m\u001b[0m_maybe_cast_indexer\u001b[0m\u001b[0;34m(\u001b[0m\u001b[0mkey\u001b[0m\u001b[0;34m)\u001b[0m\u001b[0;34m)\u001b[0m\u001b[0;34m\u001b[0m\u001b[0;34m\u001b[0m\u001b[0m\n\u001b[0m\u001b[1;32m   2649\u001b[0m         \u001b[0mindexer\u001b[0m \u001b[0;34m=\u001b[0m \u001b[0mself\u001b[0m\u001b[0;34m.\u001b[0m\u001b[0mget_indexer\u001b[0m\u001b[0;34m(\u001b[0m\u001b[0;34m[\u001b[0m\u001b[0mkey\u001b[0m\u001b[0;34m]\u001b[0m\u001b[0;34m,\u001b[0m \u001b[0mmethod\u001b[0m\u001b[0;34m=\u001b[0m\u001b[0mmethod\u001b[0m\u001b[0;34m,\u001b[0m \u001b[0mtolerance\u001b[0m\u001b[0;34m=\u001b[0m\u001b[0mtolerance\u001b[0m\u001b[0;34m)\u001b[0m\u001b[0;34m\u001b[0m\u001b[0;34m\u001b[0m\u001b[0m\n\u001b[1;32m   2650\u001b[0m         \u001b[0;32mif\u001b[0m \u001b[0mindexer\u001b[0m\u001b[0;34m.\u001b[0m\u001b[0mndim\u001b[0m \u001b[0;34m>\u001b[0m \u001b[0;36m1\u001b[0m \u001b[0;32mor\u001b[0m \u001b[0mindexer\u001b[0m\u001b[0;34m.\u001b[0m\u001b[0msize\u001b[0m \u001b[0;34m>\u001b[0m \u001b[0;36m1\u001b[0m\u001b[0;34m:\u001b[0m\u001b[0;34m\u001b[0m\u001b[0;34m\u001b[0m\u001b[0m\n",
      "\u001b[0;32mpandas/_libs/index.pyx\u001b[0m in \u001b[0;36mpandas._libs.index.IndexEngine.get_loc\u001b[0;34m()\u001b[0m\n",
      "\u001b[0;32mpandas/_libs/index.pyx\u001b[0m in \u001b[0;36mpandas._libs.index.IndexEngine.get_loc\u001b[0;34m()\u001b[0m\n",
      "\u001b[0;32mpandas/_libs/hashtable_class_helper.pxi\u001b[0m in \u001b[0;36mpandas._libs.hashtable.PyObjectHashTable.get_item\u001b[0;34m()\u001b[0m\n",
      "\u001b[0;32mpandas/_libs/hashtable_class_helper.pxi\u001b[0m in \u001b[0;36mpandas._libs.hashtable.PyObjectHashTable.get_item\u001b[0;34m()\u001b[0m\n",
      "\u001b[0;31mKeyError\u001b[0m: 1"
     ]
    }
   ],
   "source": [
    "enc1  = LabelEncoder()\n",
    "enc1.fit(df_train[1])\n",
    "\n",
    "#print('classed found : ' , list(enc1.classes_))\n",
    "#print('equivilant numbers are : ' ,enc1.transform(df_train[1]) )\n",
    "\n",
    "df_train[\"newGender\"] = enc1.transform(df_train[1])\n",
    "#df_train.drop([1], axis=1)\n",
    "del df_train[1]\n",
    "\n",
    "#print('Updates dataframe is : \\n' ,df_train )\n",
    "#print('Inverse Transform  : ' ,list(enc1.inverse_transform([1,0,2,1,1,0,0])))\n",
    "#--------\n",
    "enc5  = LabelEncoder()\n",
    "enc5.fit(df_train[5])\n",
    "\n",
    "#print('classed found : ' , list(enc5.classes_))\n",
    "#print('equivilant numbers are : ' ,enc5.transform(df_train[5]) )\n",
    "\n",
    "df_train[\"Marrid\"] = enc5.transform(df_train[5])\n",
    "#df_train.drop([5], axis=1)\n",
    "del df_train[5]\n",
    "\n",
    "\n",
    "#print('Updates dataframe is : \\n' ,df_train )\n",
    "#print('Inverse Transform  : ' ,list(enc5.inverse_transform([1,0,2,1,1,0,0])))\n",
    "#-------\n",
    "enc6  = LabelEncoder()\n",
    "enc6.fit(df_train[6])\n",
    "\n",
    "#print('classed found : ' , list(enc6.classes_))\n",
    "#print('equivilant numbers are : ' ,enc6.transform(df_train[6]) )\n",
    "\n",
    "df_train[\"Work\"] = enc6.transform(df_train[6])\n",
    "#df_train = df_train.drop(6)\n",
    "del df_train[6]\n",
    "\n",
    "#print('Updates dataframe is : \\n' ,df_train )\n",
    "#print('Inverse Transform  : ' ,list(enc6.inverse_transform([1,0,2,1,1,0,0])))\n",
    "#----------\n",
    "enc7  = LabelEncoder()\n",
    "enc7.fit(df_train[7])\n",
    "\n",
    "#print('classed found : ' , list(enc7.classes_))\n",
    "#print('equivilant numbers are : ' ,enc7.transform(df_train[7]) )\n",
    "\n",
    "df_train[\"Resident\"] = enc7.transform(df_train[7])\n",
    "#df_train = df_train.drop(7)\n",
    "del df_train[7]\n",
    "\n",
    "#print('Updates dataframe is : \\n' ,df_train )\n",
    "#print('Inverse Transform  : ' ,list(enc7.inverse_transform([1,0,2,1,1,0,0])))\n",
    "#----------\n",
    "enc10  = LabelEncoder()\n",
    "enc10.fit(df_train[10])\n",
    "\n",
    "#print('classed found : ' , list(enc10.classes_))\n",
    "#print('equivilant numbers are : ' ,enc10.transform(df_train[10]) )\n",
    "\n",
    "df_train[\"Smoking\"] = enc10.transform(df_train[10])\n",
    "#df_train = pd.drop(10)\n",
    "del df_train[10]\n",
    "\n",
    "#print('Updates dataframe is : \\n' ,df_train )\n",
    "#print('Inverse Transform  : ' ,list(enc10.inverse_transform([1,0,2,1,1,0,0])))\n"
   ]
  },
  {
   "cell_type": "code",
   "execution_count": 7,
   "metadata": {},
   "outputs": [],
   "source": [
    "#-----------------TestData------------------------------------------------------\n",
    "enc1  = LabelEncoder()\n",
    "enc1.fit(df_test[1])\n",
    "\n",
    "#print('classed found : ' , list(enc1.classes_))\n",
    "#print('equivilant numbers are : ' ,enc1.transform(df_test[1]) )\n",
    "\n",
    "df_test[\"newGender\"] = enc1.transform(df_test[1])\n",
    "#df_test.drop([1], axis=1)\n",
    "del df_test[1]\n",
    "\n",
    "#print('Updates dataframe is : \\n' ,df_test )\n",
    "#print('Inverse Transform  : ' ,list(enc1.inverse_transform([1,0,2,1,1,0,0])))\n",
    "#--------\n",
    "enc5  = LabelEncoder()\n",
    "enc5.fit(df_test[5])\n",
    "\n",
    "#print('classed found : ' , list(enc5.classes_))\n",
    "#print('equivilant numbers are : ' ,enc5.transform(df_test[5]) )\n",
    "\n",
    "df_test[\"Marrid\"] = enc5.transform(df_test[5])\n",
    "#df_test.drop([5], axis=1)\n",
    "del df_test[5]\n",
    "\n",
    "\n",
    "#print('Updates dataframe is : \\n' ,df_test )\n",
    "#print('Inverse Transform  : ' ,list(enc5.inverse_transform([1,0,2,1,1,0,0])))\n",
    "#-------\n",
    "enc6  = LabelEncoder()\n",
    "enc6.fit(df_test[6])\n",
    "\n",
    "#print('classed found : ' , list(enc6.classes_))\n",
    "#print('equivilant numbers are : ' ,enc6.transform(df_test[6]) )\n",
    "\n",
    "df_test[\"Work\"] = enc6.transform(df_test[6])\n",
    "#df_test = df_test.drop(6)\n",
    "del df_test[6]\n",
    "\n",
    "#print('Updates dataframe is : \\n' ,df_test )\n",
    "#print('Inverse Transform  : ' ,list(enc6.inverse_transform([1,0,2,1,1,0,0])))\n",
    "#----------\n",
    "enc7  = LabelEncoder()\n",
    "enc7.fit(df_test[7])\n",
    "\n",
    "#print('classed found : ' , list(enc7.classes_))\n",
    "#print('equivilant numbers are : ' ,enc7.transform(df_test[7]) )\n",
    "\n",
    "df_test[\"Resident\"] = enc7.transform(df_test[7])\n",
    "#df_test = df_test.drop(7)\n",
    "del df_test[7]\n",
    "\n",
    "#print('Updates dataframe is : \\n' ,df_test )\n",
    "#print('Inverse Transform  : ' ,list(enc7.inverse_transform([1,0,2,1,1,0,0])))\n",
    "#----------\n",
    "enc10  = LabelEncoder()\n",
    "enc10.fit(df_test[10])\n",
    "\n",
    "#print('classed found : ' , list(enc10.classes_))\n",
    "#print('equivilant numbers are : ' ,enc10.transform(df_test[10]) )\n",
    "\n",
    "df_test[\"Smoking\"] = enc10.transform(df_test[10])\n",
    "#df_test = pd.drop(10)\n",
    "del df_test[10]\n",
    "#-------------------\n",
    "\n",
    "\n",
    "#print('Updates dataframe is : \\n' ,df_test )\n",
    "#print('Inverse Transform  : ' ,list(enc10.inverse_transform([1,0,2,1,1,0,0])))\n",
    "\n"
   ]
  },
  {
   "cell_type": "code",
   "execution_count": 8,
   "metadata": {},
   "outputs": [],
   "source": [
    "df_train = pd.DataFrame(df_train)\n",
    "df_train[\"Stroke\"] = df_train[11]\n",
    "del df_train[11]\n",
    "#print(df_train[\"Stroke\"])"
   ]
  },
  {
   "cell_type": "code",
   "execution_count": 9,
   "metadata": {},
   "outputs": [],
   "source": [
    "#print(df_test.head(5))\n",
    "#print(df_test.shape)\n",
    "\n",
    "#print(df_train.head(5))\n",
    "#df_train = pd.DataFrame(df_train)\n",
    "\n",
    "#print(df_train.head(2))"
   ]
  },
  {
   "cell_type": "code",
   "execution_count": 10,
   "metadata": {},
   "outputs": [
    {
     "name": "stdout",
     "output_type": "stream",
     "text": [
      "(43400, 10)\n",
      "(43400, 1)\n"
     ]
    }
   ],
   "source": [
    "df_trainX = df_train.iloc[:,0:10]\n",
    "print(df_trainX.shape)\n",
    "\n",
    "df_trainY = df_train.iloc[:,11:]\n",
    "print(df_trainY.shape)\n",
    "#df_train = pd.DataFrame(df_train)\n",
    "#df_trainY =(df_train.iloc[:,11:])\n",
    "#print(df_trainY.head(5))\n",
    "#df_trainX = (df_train[[1,2,3,4,5,6,7,8,9,10,]])\n",
    "#print(df_trainX)\n",
    "#df_trainX = pd.DataFrame(df_trainX)\n",
    "#df_trainY = pd.DataFrame(df_trainY)\n",
    "#print(df_trainX.iloc[:5,:5])"
   ]
  },
  {
   "cell_type": "code",
   "execution_count": 11,
   "metadata": {},
   "outputs": [
    {
     "name": "stdout",
     "output_type": "stream",
     "text": [
      "X_train shape is  (30380, 10)\n",
      "X_test shape is  (13020, 10)\n",
      "y_train shape is  (30380, 1)\n",
      "y_test shape is  (13020, 1)\n"
     ]
    }
   ],
   "source": [
    "X_train, X_test, y_train, y_test = train_test_split(df_trainX, df_trainY, test_size=0.30, random_state=44, shuffle =True)\n",
    "\n",
    "#Splitted Data\n",
    "print('X_train shape is ' , X_train.shape)\n",
    "print('X_test shape is ' , X_test.shape)\n",
    "print('y_train shape is ' , y_train.shape)\n",
    "print('y_test shape is ' , y_test.shape)\n",
    "#print(y_test)\n"
   ]
  },
  {
   "cell_type": "code",
   "execution_count": 12,
   "metadata": {},
   "outputs": [
    {
     "name": "stderr",
     "output_type": "stream",
     "text": [
      "/home/monad/anaconda3/envs/tff/lib/python3.6/site-packages/sklearn/preprocessing/label.py:235: DataConversionWarning: A column-vector y was passed when a 1d array was expected. Please change the shape of y to (n_samples, ), for example using ravel().\n",
      "  y = column_or_1d(y, warn=True)\n",
      "/home/monad/anaconda3/envs/tff/lib/python3.6/site-packages/sklearn/svm/base.py:196: FutureWarning: The default value of gamma will change from 'auto' to 'scale' in version 0.22 to account better for unscaled features. Set gamma explicitly to 'auto' or 'scale' to avoid this warning.\n",
      "  \"avoid this warning.\", FutureWarning)\n"
     ]
    },
    {
     "name": "stdout",
     "output_type": "stream",
     "text": [
      "SVCModel Train Score is :  0.9820276497695852\n",
      "SVCModel Test Score is :  0.9817972350230415\n",
      "----------------------------------------------------\n"
     ]
    }
   ],
   "source": [
    "lab_enc = preprocessing.LabelEncoder()\n",
    "training_scores_encoded = lab_enc.fit_transform(y_train)\n",
    "\n",
    "lab_enc = preprocessing.LabelEncoder()\n",
    "training_scores_encoded1 = lab_enc.fit_transform(y_test)\n",
    "\n",
    "SVCModel = SVC(kernel= 'sigmoid',# it can be also linear,poly,sigmoid,precomputed\n",
    "               max_iter=50000,C=0.00001,gamma='auto_deprecated',degree=100)\n",
    "\n",
    "SVCModel.fit(X_train, training_scores_encoded)\n",
    "\n",
    "#Calculating Details\n",
    "print('SVCModel Train Score is : ' , SVCModel.score(X_train, training_scores_encoded))\n",
    "print('SVCModel Test Score is : ' , SVCModel.score(X_test, training_scores_encoded1))\n",
    "print('----------------------------------------------------')\n",
    "\n"
   ]
  },
  {
   "cell_type": "code",
   "execution_count": 13,
   "metadata": {},
   "outputs": [
    {
     "name": "stdout",
     "output_type": "stream",
     "text": [
      "DecisionTreeClassifierModel Train Score is :  0.9951942067149441\n",
      "DecisionTreeClassifierModel Test Score is :  0.9675883256528418\n",
      "----------------------------------------------------\n"
     ]
    }
   ],
   "source": [
    "DecisionTreeClassifierModel = DecisionTreeClassifier(criterion='entropy',max_depth= 20,random_state=500) #criterion can be entropy\n",
    "DecisionTreeClassifierModel.fit(X_train, training_scores_encoded)\n",
    "\n",
    "#Calculating Details\n",
    "print('DecisionTreeClassifierModel Train Score is : ' , DecisionTreeClassifierModel.score(X_train, training_scores_encoded))\n",
    "print('DecisionTreeClassifierModel Test Score is : ' , DecisionTreeClassifierModel.score(X_test, training_scores_encoded1))\n",
    "#print('DecisionTreeClassifierModel Classes are : ' , DecisionTreeClassifierModel.classes_)\n",
    "#print('DecisionTreeClassifierModel feature importances are : ' , DecisionTreeClassifierModel.feature_importances_)\n",
    "print('----------------------------------------------------')\n",
    "\n"
   ]
  },
  {
   "cell_type": "code",
   "execution_count": 14,
   "metadata": {},
   "outputs": [
    {
     "name": "stdout",
     "output_type": "stream",
     "text": [
      "--------------FrontFold-----------------\n",
      "========================================\n"
     ]
    },
    {
     "name": "stderr",
     "output_type": "stream",
     "text": [
      "/home/monad/anaconda3/envs/tff/lib/python3.6/site-packages/sklearn/preprocessing/label.py:235: DataConversionWarning: A column-vector y was passed when a 1d array was expected. Please change the shape of y to (n_samples, ), for example using ravel().\n",
      "  y = column_or_1d(y, warn=True)\n"
     ]
    },
    {
     "name": "stdout",
     "output_type": "stream",
     "text": [
      "DecisionTreeClassifierModel Train Score is :  0.9841269841269841\n",
      "DecisionTreeClassifierModel Test Score is :  0.9794930875576037\n",
      "Confusion Matrix is : \n",
      " [[4250   10]\n",
      " [  79    1]]\n",
      "========================================\n"
     ]
    },
    {
     "name": "stderr",
     "output_type": "stream",
     "text": [
      "/home/monad/anaconda3/envs/tff/lib/python3.6/site-packages/sklearn/svm/base.py:196: FutureWarning: The default value of gamma will change from 'auto' to 'scale' in version 0.22 to account better for unscaled features. Set gamma explicitly to 'auto' or 'scale' to avoid this warning.\n",
      "  \"avoid this warning.\", FutureWarning)\n"
     ]
    },
    {
     "name": "stdout",
     "output_type": "stream",
     "text": [
      "SVCModel Train Score is :  0.9820020481310804\n",
      "SVCModel Test Score is :  0.9815668202764977\n",
      "Confusion Matrix is : \n",
      " [[4260    0]\n",
      " [  80    0]]\n",
      "========================================\n",
      "VotingClassifierMode Train Score is :  0.9820020481310804\n",
      "VotingClassifierMode Test Score is :  0.9815668202764977\n",
      "Confusion Matrix is : \n",
      " [[4260    0]\n",
      " [  80    0]]\n",
      "F1 Score is :  0.9815668202764977\n",
      "========================================\n",
      "-------------------EndFold---------------------------------\n",
      "--------------FrontFold-----------------\n",
      "========================================\n",
      "DecisionTreeClassifierModel Train Score is :  0.98394777265745\n",
      "DecisionTreeClassifierModel Test Score is :  0.9788018433179724\n",
      "Confusion Matrix is : \n",
      " [[4247    9]\n",
      " [  83    1]]\n",
      "========================================\n"
     ]
    },
    {
     "name": "stderr",
     "output_type": "stream",
     "text": [
      "/home/monad/anaconda3/envs/tff/lib/python3.6/site-packages/sklearn/preprocessing/label.py:235: DataConversionWarning: A column-vector y was passed when a 1d array was expected. Please change the shape of y to (n_samples, ), for example using ravel().\n",
      "  y = column_or_1d(y, warn=True)\n",
      "/home/monad/anaconda3/envs/tff/lib/python3.6/site-packages/sklearn/svm/base.py:196: FutureWarning: The default value of gamma will change from 'auto' to 'scale' in version 0.22 to account better for unscaled features. Set gamma explicitly to 'auto' or 'scale' to avoid this warning.\n",
      "  \"avoid this warning.\", FutureWarning)\n"
     ]
    },
    {
     "name": "stdout",
     "output_type": "stream",
     "text": [
      "SVCModel Train Score is :  0.9821044546850999\n",
      "SVCModel Test Score is :  0.9806451612903225\n",
      "Confusion Matrix is : \n",
      " [[4256    0]\n",
      " [  84    0]]\n",
      "========================================\n",
      "VotingClassifierMode Train Score is :  0.9821044546850999\n",
      "VotingClassifierMode Test Score is :  0.9806451612903225\n",
      "Confusion Matrix is : \n",
      " [[4256    0]\n",
      " [  84    0]]\n",
      "F1 Score is :  0.9806451612903225\n",
      "========================================\n",
      "-------------------EndFold---------------------------------\n",
      "--------------FrontFold-----------------\n",
      "========================================\n",
      "DecisionTreeClassifierModel Train Score is :  0.9838965693804403\n",
      "DecisionTreeClassifierModel Test Score is :  0.9804147465437788\n",
      "Confusion Matrix is : \n",
      " [[4255   12]\n",
      " [  73    0]]\n",
      "========================================\n"
     ]
    },
    {
     "name": "stderr",
     "output_type": "stream",
     "text": [
      "/home/monad/anaconda3/envs/tff/lib/python3.6/site-packages/sklearn/preprocessing/label.py:235: DataConversionWarning: A column-vector y was passed when a 1d array was expected. Please change the shape of y to (n_samples, ), for example using ravel().\n",
      "  y = column_or_1d(y, warn=True)\n",
      "/home/monad/anaconda3/envs/tff/lib/python3.6/site-packages/sklearn/svm/base.py:196: FutureWarning: The default value of gamma will change from 'auto' to 'scale' in version 0.22 to account better for unscaled features. Set gamma explicitly to 'auto' or 'scale' to avoid this warning.\n",
      "  \"avoid this warning.\", FutureWarning)\n"
     ]
    },
    {
     "name": "stdout",
     "output_type": "stream",
     "text": [
      "SVCModel Train Score is :  0.9818228366615463\n",
      "SVCModel Test Score is :  0.9831797235023041\n",
      "Confusion Matrix is : \n",
      " [[4267    0]\n",
      " [  73    0]]\n",
      "========================================\n",
      "VotingClassifierMode Train Score is :  0.9818228366615463\n",
      "VotingClassifierMode Test Score is :  0.9831797235023041\n",
      "Confusion Matrix is : \n",
      " [[4267    0]\n",
      " [  73    0]]\n",
      "F1 Score is :  0.9831797235023041\n",
      "========================================\n",
      "-------------------EndFold---------------------------------\n",
      "--------------FrontFold-----------------\n",
      "========================================\n",
      "DecisionTreeClassifierModel Train Score is :  0.9838709677419355\n",
      "DecisionTreeClassifierModel Test Score is :  0.9799539170506912\n",
      "Confusion Matrix is : \n",
      " [[4252   11]\n",
      " [  76    1]]\n",
      "========================================\n"
     ]
    },
    {
     "name": "stderr",
     "output_type": "stream",
     "text": [
      "/home/monad/anaconda3/envs/tff/lib/python3.6/site-packages/sklearn/preprocessing/label.py:235: DataConversionWarning: A column-vector y was passed when a 1d array was expected. Please change the shape of y to (n_samples, ), for example using ravel().\n",
      "  y = column_or_1d(y, warn=True)\n",
      "/home/monad/anaconda3/envs/tff/lib/python3.6/site-packages/sklearn/svm/base.py:196: FutureWarning: The default value of gamma will change from 'auto' to 'scale' in version 0.22 to account better for unscaled features. Set gamma explicitly to 'auto' or 'scale' to avoid this warning.\n",
      "  \"avoid this warning.\", FutureWarning)\n"
     ]
    },
    {
     "name": "stdout",
     "output_type": "stream",
     "text": [
      "SVCModel Train Score is :  0.9819252432155658\n",
      "SVCModel Test Score is :  0.9822580645161291\n",
      "Confusion Matrix is : \n",
      " [[4263    0]\n",
      " [  77    0]]\n",
      "========================================\n",
      "VotingClassifierMode Train Score is :  0.9819252432155658\n",
      "VotingClassifierMode Test Score is :  0.9822580645161291\n",
      "Confusion Matrix is : \n",
      " [[4263    0]\n",
      " [  77    0]]\n",
      "F1 Score is :  0.9822580645161291\n",
      "========================================\n",
      "-------------------EndFold---------------------------------\n",
      "--------------FrontFold-----------------\n",
      "========================================\n",
      "DecisionTreeClassifierModel Train Score is :  0.984152585765489\n",
      "DecisionTreeClassifierModel Test Score is :  0.9792626728110599\n",
      "Confusion Matrix is : \n",
      " [[4249    9]\n",
      " [  81    1]]\n",
      "========================================\n"
     ]
    },
    {
     "name": "stderr",
     "output_type": "stream",
     "text": [
      "/home/monad/anaconda3/envs/tff/lib/python3.6/site-packages/sklearn/preprocessing/label.py:235: DataConversionWarning: A column-vector y was passed when a 1d array was expected. Please change the shape of y to (n_samples, ), for example using ravel().\n",
      "  y = column_or_1d(y, warn=True)\n",
      "/home/monad/anaconda3/envs/tff/lib/python3.6/site-packages/sklearn/svm/base.py:196: FutureWarning: The default value of gamma will change from 'auto' to 'scale' in version 0.22 to account better for unscaled features. Set gamma explicitly to 'auto' or 'scale' to avoid this warning.\n",
      "  \"avoid this warning.\", FutureWarning)\n"
     ]
    },
    {
     "name": "stdout",
     "output_type": "stream",
     "text": [
      "SVCModel Train Score is :  0.9820532514080901\n",
      "SVCModel Test Score is :  0.9811059907834101\n",
      "Confusion Matrix is : \n",
      " [[4258    0]\n",
      " [  82    0]]\n",
      "========================================\n",
      "VotingClassifierMode Train Score is :  0.9820532514080901\n",
      "VotingClassifierMode Test Score is :  0.9811059907834101\n",
      "Confusion Matrix is : \n",
      " [[4258    0]\n",
      " [  82    0]]\n",
      "F1 Score is :  0.9811059907834101\n",
      "========================================\n",
      "-------------------EndFold---------------------------------\n",
      "--------------FrontFold-----------------\n",
      "========================================\n",
      "DecisionTreeClassifierModel Train Score is :  0.9843830005120328\n",
      "DecisionTreeClassifierModel Test Score is :  0.9767281105990784\n",
      "Confusion Matrix is : \n",
      " [[4237   14]\n",
      " [  87    2]]\n",
      "========================================\n"
     ]
    },
    {
     "name": "stderr",
     "output_type": "stream",
     "text": [
      "/home/monad/anaconda3/envs/tff/lib/python3.6/site-packages/sklearn/preprocessing/label.py:235: DataConversionWarning: A column-vector y was passed when a 1d array was expected. Please change the shape of y to (n_samples, ), for example using ravel().\n",
      "  y = column_or_1d(y, warn=True)\n",
      "/home/monad/anaconda3/envs/tff/lib/python3.6/site-packages/sklearn/svm/base.py:196: FutureWarning: The default value of gamma will change from 'auto' to 'scale' in version 0.22 to account better for unscaled features. Set gamma explicitly to 'auto' or 'scale' to avoid this warning.\n",
      "  \"avoid this warning.\", FutureWarning)\n"
     ]
    },
    {
     "name": "stdout",
     "output_type": "stream",
     "text": [
      "SVCModel Train Score is :  0.9822324628776241\n",
      "SVCModel Test Score is :  0.9794930875576037\n",
      "Confusion Matrix is : \n",
      " [[4251    0]\n",
      " [  89    0]]\n",
      "========================================\n"
     ]
    },
    {
     "name": "stderr",
     "output_type": "stream",
     "text": [
      "/home/monad/anaconda3/envs/tff/lib/python3.6/site-packages/sklearn/linear_model/logistic.py:757: ConvergenceWarning: lbfgs failed to converge. Increase the number of iterations.\n",
      "  \"of iterations.\", ConvergenceWarning)\n"
     ]
    },
    {
     "name": "stdout",
     "output_type": "stream",
     "text": [
      "VotingClassifierMode Train Score is :  0.9822324628776241\n",
      "VotingClassifierMode Test Score is :  0.9794930875576037\n",
      "Confusion Matrix is : \n",
      " [[4251    0]\n",
      " [  89    0]]\n",
      "F1 Score is :  0.9794930875576037\n",
      "========================================\n",
      "-------------------EndFold---------------------------------\n",
      "--------------FrontFold-----------------\n",
      "========================================\n",
      "DecisionTreeClassifierModel Train Score is :  0.9831285202252944\n",
      "DecisionTreeClassifierModel Test Score is :  0.9820276497695852\n",
      "Confusion Matrix is : \n",
      " [[4262    7]\n",
      " [  71    0]]\n",
      "========================================\n"
     ]
    },
    {
     "name": "stderr",
     "output_type": "stream",
     "text": [
      "/home/monad/anaconda3/envs/tff/lib/python3.6/site-packages/sklearn/preprocessing/label.py:235: DataConversionWarning: A column-vector y was passed when a 1d array was expected. Please change the shape of y to (n_samples, ), for example using ravel().\n",
      "  y = column_or_1d(y, warn=True)\n",
      "/home/monad/anaconda3/envs/tff/lib/python3.6/site-packages/sklearn/svm/base.py:196: FutureWarning: The default value of gamma will change from 'auto' to 'scale' in version 0.22 to account better for unscaled features. Set gamma explicitly to 'auto' or 'scale' to avoid this warning.\n",
      "  \"avoid this warning.\", FutureWarning)\n"
     ]
    },
    {
     "name": "stdout",
     "output_type": "stream",
     "text": [
      "SVCModel Train Score is :  0.9817716333845367\n",
      "SVCModel Test Score is :  0.9836405529953917\n",
      "Confusion Matrix is : \n",
      " [[4269    0]\n",
      " [  71    0]]\n",
      "========================================\n"
     ]
    },
    {
     "name": "stderr",
     "output_type": "stream",
     "text": [
      "/home/monad/anaconda3/envs/tff/lib/python3.6/site-packages/sklearn/linear_model/logistic.py:757: ConvergenceWarning: lbfgs failed to converge. Increase the number of iterations.\n",
      "  \"of iterations.\", ConvergenceWarning)\n"
     ]
    },
    {
     "name": "stdout",
     "output_type": "stream",
     "text": [
      "VotingClassifierMode Train Score is :  0.9817716333845367\n",
      "VotingClassifierMode Test Score is :  0.9836405529953917\n",
      "Confusion Matrix is : \n",
      " [[4269    0]\n",
      " [  71    0]]\n",
      "F1 Score is :  0.9836405529953917\n",
      "========================================\n",
      "-------------------EndFold---------------------------------\n",
      "--------------FrontFold-----------------\n",
      "========================================\n",
      "DecisionTreeClassifierModel Train Score is :  0.983973374295955\n",
      "DecisionTreeClassifierModel Test Score is :  0.9806451612903225\n"
     ]
    },
    {
     "name": "stderr",
     "output_type": "stream",
     "text": [
      "/home/monad/anaconda3/envs/tff/lib/python3.6/site-packages/sklearn/preprocessing/label.py:235: DataConversionWarning: A column-vector y was passed when a 1d array was expected. Please change the shape of y to (n_samples, ), for example using ravel().\n",
      "  y = column_or_1d(y, warn=True)\n"
     ]
    },
    {
     "name": "stdout",
     "output_type": "stream",
     "text": [
      "Confusion Matrix is : \n",
      " [[4255    7]\n",
      " [  77    1]]\n",
      "========================================\n"
     ]
    },
    {
     "name": "stderr",
     "output_type": "stream",
     "text": [
      "/home/monad/anaconda3/envs/tff/lib/python3.6/site-packages/sklearn/svm/base.py:196: FutureWarning: The default value of gamma will change from 'auto' to 'scale' in version 0.22 to account better for unscaled features. Set gamma explicitly to 'auto' or 'scale' to avoid this warning.\n",
      "  \"avoid this warning.\", FutureWarning)\n"
     ]
    },
    {
     "name": "stdout",
     "output_type": "stream",
     "text": [
      "SVCModel Train Score is :  0.9819508448540707\n",
      "SVCModel Test Score is :  0.9820276497695852\n",
      "Confusion Matrix is : \n",
      " [[4262    0]\n",
      " [  78    0]]\n",
      "========================================\n",
      "VotingClassifierMode Train Score is :  0.9819508448540707\n",
      "VotingClassifierMode Test Score is :  0.9820276497695852\n",
      "Confusion Matrix is : \n",
      " [[4262    0]\n",
      " [  78    0]]\n",
      "F1 Score is :  0.9820276497695852\n",
      "========================================\n",
      "-------------------EndFold---------------------------------\n",
      "--------------FrontFold-----------------\n",
      "========================================\n"
     ]
    },
    {
     "name": "stderr",
     "output_type": "stream",
     "text": [
      "/home/monad/anaconda3/envs/tff/lib/python3.6/site-packages/sklearn/preprocessing/label.py:235: DataConversionWarning: A column-vector y was passed when a 1d array was expected. Please change the shape of y to (n_samples, ), for example using ravel().\n",
      "  y = column_or_1d(y, warn=True)\n"
     ]
    },
    {
     "name": "stdout",
     "output_type": "stream",
     "text": [
      "DecisionTreeClassifierModel Train Score is :  0.9845110087045571\n",
      "DecisionTreeClassifierModel Test Score is :  0.978110599078341\n",
      "Confusion Matrix is : \n",
      " [[4244   17]\n",
      " [  78    1]]\n",
      "========================================\n"
     ]
    },
    {
     "name": "stderr",
     "output_type": "stream",
     "text": [
      "/home/monad/anaconda3/envs/tff/lib/python3.6/site-packages/sklearn/svm/base.py:196: FutureWarning: The default value of gamma will change from 'auto' to 'scale' in version 0.22 to account better for unscaled features. Set gamma explicitly to 'auto' or 'scale' to avoid this warning.\n",
      "  \"avoid this warning.\", FutureWarning)\n"
     ]
    },
    {
     "name": "stdout",
     "output_type": "stream",
     "text": [
      "SVCModel Train Score is :  0.9819764464925755\n",
      "SVCModel Test Score is :  0.9817972350230415\n",
      "Confusion Matrix is : \n",
      " [[4261    0]\n",
      " [  79    0]]\n",
      "========================================\n",
      "VotingClassifierMode Train Score is :  0.9819764464925755\n",
      "VotingClassifierMode Test Score is :  0.9817972350230415\n",
      "Confusion Matrix is : \n",
      " [[4261    0]\n",
      " [  79    0]]\n",
      "F1 Score is :  0.9817972350230415\n",
      "========================================\n",
      "-------------------EndFold---------------------------------\n",
      "--------------FrontFold-----------------\n",
      "========================================\n",
      "DecisionTreeClassifierModel Train Score is :  0.9841013824884792\n",
      "DecisionTreeClassifierModel Test Score is :  0.9815668202764977\n",
      "Confusion Matrix is : \n",
      " [[4260   10]\n",
      " [  70    0]]\n",
      "========================================\n"
     ]
    },
    {
     "name": "stderr",
     "output_type": "stream",
     "text": [
      "/home/monad/anaconda3/envs/tff/lib/python3.6/site-packages/sklearn/preprocessing/label.py:235: DataConversionWarning: A column-vector y was passed when a 1d array was expected. Please change the shape of y to (n_samples, ), for example using ravel().\n",
      "  y = column_or_1d(y, warn=True)\n",
      "/home/monad/anaconda3/envs/tff/lib/python3.6/site-packages/sklearn/svm/base.py:196: FutureWarning: The default value of gamma will change from 'auto' to 'scale' in version 0.22 to account better for unscaled features. Set gamma explicitly to 'auto' or 'scale' to avoid this warning.\n",
      "  \"avoid this warning.\", FutureWarning)\n"
     ]
    },
    {
     "name": "stdout",
     "output_type": "stream",
     "text": [
      "SVCModel Train Score is :  0.9817460317460317\n",
      "SVCModel Test Score is :  0.9838709677419355\n",
      "Confusion Matrix is : \n",
      " [[4270    0]\n",
      " [  70    0]]\n",
      "========================================\n",
      "VotingClassifierMode Train Score is :  0.9817460317460317\n",
      "VotingClassifierMode Test Score is :  0.9838709677419355\n",
      "Confusion Matrix is : \n",
      " [[4270    0]\n",
      " [  70    0]]\n",
      "F1 Score is :  0.9838709677419355\n",
      "========================================\n",
      "-------------------EndFold---------------------------------\n",
      "the total score for score_DTC 0.979700460829493\n",
      "the total score for score_VCM 0.9819585253456221\n",
      "the total score for score_SVC 0.9819585253456221\n"
     ]
    }
   ],
   "source": [
    "#loading models for Voting Classifier\n",
    "LRModel_ = LogisticRegression(solver='lbfgs', multi_class='multinomial',random_state=33)\n",
    "RFModel_ = RandomForestClassifier(n_estimators=100, criterion='gini',max_depth=1, random_state=33)\n",
    "KNNModel_ = KNeighborsClassifier(n_neighbors= 4 , weights ='uniform', algorithm='auto')\n",
    "\n",
    "#loading Voting Classifier\n",
    "VotingClassifierModel = VotingClassifier(estimators=[('LRModel',LRModel_),('RFModel',RFModel_),('KNNModel',KNNModel_)], voting='hard')\n",
    "\n",
    "\n",
    "DecisionTreeClassifierModel = DecisionTreeClassifier(criterion='gini',max_depth= 9,random_state=500) #criterion can be entropy\n",
    "\n",
    "SVCModel = SVC(kernel= 'sigmoid',# it can be also linear,poly,sigmoid,precomputed\n",
    "               max_iter=50000,C=0.00001,gamma='auto_deprecated',degree=100)\n",
    "\n",
    "\n",
    "#KFold Splitting data\n",
    "FoldNo  = 10\n",
    "kf = KFold(n_splits=FoldNo, random_state=44, shuffle =True)\n",
    "\n",
    "score_DTC = 0\n",
    "score_VCM = 0\n",
    "score_SVC = 0 \n",
    "\n",
    "\n",
    "#KFold Data\n",
    "X = df_trainX\n",
    "y = df_trainY\n",
    "lab_enc = preprocessing.LabelEncoder()\n",
    "for train_index, test_index in kf.split(X):\n",
    "    print('--------------FrontFold-----------------')\n",
    "    X_train, X_test = X.iloc[train_index], X.iloc[test_index]\n",
    "    y_train, y_test = y.iloc[train_index], y.iloc[test_index]\n",
    "    \n",
    "    \n",
    "    X_train = pd.DataFrame(X_train)\n",
    "    y_train = pd.DataFrame(y_train)\n",
    "    \n",
    "    X_test = pd.DataFrame(X_test)\n",
    "    y_test = pd.DataFrame(y_test)\n",
    "    \n",
    "    y_train = lab_enc.fit_transform(y_train)\n",
    "    y_test = lab_enc.fit_transform(y_test)\n",
    "    \n",
    "    \n",
    "    print('========================================')\n",
    "    \n",
    "    \n",
    "    #DTC Model\n",
    "    \n",
    "    DecisionTreeClassifierModel.fit(X_train,y_train)\n",
    "    print('DecisionTreeClassifierModel Train Score is : ' , DecisionTreeClassifierModel.score(X_train, y_train))\n",
    "    print('DecisionTreeClassifierModel Test Score is : ' , DecisionTreeClassifierModel.score(X_test, y_test))\n",
    "    \n",
    "    y_pred = DecisionTreeClassifierModel.predict(X_test)\n",
    "    \n",
    "    score_DTC = score_DTC + DecisionTreeClassifierModel.score(X_test, y_test)\n",
    "    \n",
    "    \n",
    "    #Calculating Confusion Matrix\n",
    "    CM1 = confusion_matrix(y_test, y_pred)\n",
    "    print('Confusion Matrix is : \\n', CM1)\n",
    "\n",
    "   \n",
    "    \n",
    "    print('========================================')\n",
    "    \n",
    "    \n",
    "    #SVC Model\n",
    "    \n",
    "    SVCModel.fit(X_train,y_train)\n",
    "    print('SVCModel Train Score is : ' , SVCModel.score(X_train,y_train))\n",
    "    print('SVCModel Test Score is : ' , SVCModel.score(X_test, y_test))\n",
    "    \n",
    "    y_predect = SVCModel.predict(X_test)\n",
    "    \n",
    "    score_SVC = score_SVC + SVCModel.score(X_test, y_test)\n",
    "\n",
    "    #Calculating Confusion Matrix\n",
    "    CM2 = confusion_matrix(y_test, y_predect)\n",
    "    print('Confusion Matrix is : \\n', CM2)\n",
    "\n",
    "    print('========================================')\n",
    "    \n",
    "    \n",
    "    # Voting Model \n",
    "    \n",
    "    VotingClassifierModel.fit(X_train, y_train)\n",
    "    print('VotingClassifierMode Train Score is : ' , VotingClassifierModel.score(X_train,y_train))\n",
    "    print('VotingClassifierMode Test Score is : ' , VotingClassifierModel.score(X_test, y_test))\n",
    "    \n",
    "    y_predected = VotingClassifierModel.predict(X_test)\n",
    "    \n",
    "    score_VCM = score_VCM + VotingClassifierModel.score(X_test, y_test)\n",
    "    \n",
    "    #Calculating Confusion Matrix\n",
    "    CM3 = confusion_matrix(y_test, y_predected)\n",
    "    print('Confusion Matrix is : \\n', CM3)\n",
    "     \n",
    "    F1Score = f1_score(y_test, y_predected, average='micro') #it can be : binary,macro,weighted,samples\n",
    "    print('F1 Score is : ', F1Score)\n",
    "    print('========================================')\n",
    "\n",
    "    print('-------------------EndFold---------------------------------')\n",
    "    \n",
    "print(\"the total score for score_DTC\", score_DTC/FoldNo)\n",
    "print(\"the total score for score_VCM\", score_VCM/FoldNo)\n",
    "print(\"the total score for score_SVC\", score_SVC/FoldNo)"
   ]
  },
  {
   "cell_type": "code",
   "execution_count": null,
   "metadata": {},
   "outputs": [],
   "source": []
  }
 ],
 "metadata": {
  "kernelspec": {
   "display_name": "Python 3",
   "language": "python",
   "name": "python3"
  },
  "language_info": {
   "codemirror_mode": {
    "name": "ipython",
    "version": 3
   },
   "file_extension": ".py",
   "mimetype": "text/x-python",
   "name": "python",
   "nbconvert_exporter": "python",
   "pygments_lexer": "ipython3",
   "version": "3.6.10"
  }
 },
 "nbformat": 4,
 "nbformat_minor": 1
}
