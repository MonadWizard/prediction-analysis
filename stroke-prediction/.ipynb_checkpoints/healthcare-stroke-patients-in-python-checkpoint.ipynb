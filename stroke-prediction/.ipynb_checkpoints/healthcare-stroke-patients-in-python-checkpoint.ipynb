{
 "cells": [
  {
   "cell_type": "markdown",
   "metadata": {
    "_uuid": "4f73d69d29538a7a7a824bc32bf9aefcd66370c8"
   },
   "source": [
    "## Prediction Stroke Patients"
   ]
  },
  {
   "cell_type": "markdown",
   "metadata": {
    "_uuid": "51b2d08804975402d4062a589a5edf52c0b96952"
   },
   "source": [
    "### Import Libraries"
   ]
  },
  {
   "cell_type": "code",
   "execution_count": 1,
   "metadata": {
    "_uuid": "1c819c13e8f22b065dc77765be038916c521ce16"
   },
   "outputs": [],
   "source": [
    "import pandas as pd\n",
    "import numpy as np\n",
    "from matplotlib import pyplot as plt\n",
    "from sklearn.preprocessing import Imputer\n",
    "from sklearn.preprocessing import LabelEncoder\n",
    "from sklearn.model_selection import train_test_split\n",
    "from imblearn.over_sampling import RandomOverSampler,SMOTE, ADASYN\n",
    "from sklearn.tree import DecisionTreeClassifier\n",
    "from sklearn.linear_model import LogisticRegression\n",
    "from sklearn.metrics import roc_curve\n",
    "from sklearn.ensemble import RandomForestClassifier\n",
    "from sklearn.metrics import classification_report,accuracy_score,confusion_matrix,auc,roc_auc_score,precision_score,recall_score"
   ]
  },
  {
   "cell_type": "markdown",
   "metadata": {
    "_uuid": "4583105ee14e30e282d8021e7fd21b45a37f0c3a"
   },
   "source": [
    "### Import Files. Train Dataset and Test Dataset. Target Variable is 'Stroke'"
   ]
  },
  {
   "cell_type": "code",
   "execution_count": 2,
   "metadata": {
    "_uuid": "13423a6ef527f97677183636fb638944817150ca"
   },
   "outputs": [],
   "source": [
    "train_data = pd.read_csv('train_2v.csv')\n",
    "test_data = pd.read_csv('test_2v.csv')"
   ]
  },
  {
   "cell_type": "code",
   "execution_count": 3,
   "metadata": {
    "_uuid": "dd8a72dc857cac6b1b2b78a9e7cb28250bb28921"
   },
   "outputs": [
    {
     "data": {
      "text/plain": [
       "(43400, 12)"
      ]
     },
     "execution_count": 3,
     "metadata": {},
     "output_type": "execute_result"
    }
   ],
   "source": [
    "train_data.shape"
   ]
  },
  {
   "cell_type": "code",
   "execution_count": 4,
   "metadata": {
    "_uuid": "06647b41c3a26070d248a8dd1a144fcd0229be6d"
   },
   "outputs": [
    {
     "data": {
      "text/html": [
       "<div>\n",
       "<style scoped>\n",
       "    .dataframe tbody tr th:only-of-type {\n",
       "        vertical-align: middle;\n",
       "    }\n",
       "\n",
       "    .dataframe tbody tr th {\n",
       "        vertical-align: top;\n",
       "    }\n",
       "\n",
       "    .dataframe thead th {\n",
       "        text-align: right;\n",
       "    }\n",
       "</style>\n",
       "<table border=\"1\" class=\"dataframe\">\n",
       "  <thead>\n",
       "    <tr style=\"text-align: right;\">\n",
       "      <th></th>\n",
       "      <th>id</th>\n",
       "      <th>gender</th>\n",
       "      <th>age</th>\n",
       "      <th>hypertension</th>\n",
       "      <th>heart_disease</th>\n",
       "      <th>ever_married</th>\n",
       "      <th>work_type</th>\n",
       "      <th>Residence_type</th>\n",
       "      <th>avg_glucose_level</th>\n",
       "      <th>bmi</th>\n",
       "      <th>smoking_status</th>\n",
       "    </tr>\n",
       "  </thead>\n",
       "  <tbody>\n",
       "    <tr>\n",
       "      <th>0</th>\n",
       "      <td>36306</td>\n",
       "      <td>Male</td>\n",
       "      <td>80.0</td>\n",
       "      <td>0</td>\n",
       "      <td>0</td>\n",
       "      <td>Yes</td>\n",
       "      <td>Private</td>\n",
       "      <td>Urban</td>\n",
       "      <td>83.84</td>\n",
       "      <td>21.1</td>\n",
       "      <td>formerly smoked</td>\n",
       "    </tr>\n",
       "    <tr>\n",
       "      <th>1</th>\n",
       "      <td>61829</td>\n",
       "      <td>Female</td>\n",
       "      <td>74.0</td>\n",
       "      <td>0</td>\n",
       "      <td>1</td>\n",
       "      <td>Yes</td>\n",
       "      <td>Self-employed</td>\n",
       "      <td>Rural</td>\n",
       "      <td>179.50</td>\n",
       "      <td>26.0</td>\n",
       "      <td>formerly smoked</td>\n",
       "    </tr>\n",
       "    <tr>\n",
       "      <th>2</th>\n",
       "      <td>14152</td>\n",
       "      <td>Female</td>\n",
       "      <td>14.0</td>\n",
       "      <td>0</td>\n",
       "      <td>0</td>\n",
       "      <td>No</td>\n",
       "      <td>children</td>\n",
       "      <td>Rural</td>\n",
       "      <td>95.16</td>\n",
       "      <td>21.2</td>\n",
       "      <td>NaN</td>\n",
       "    </tr>\n",
       "    <tr>\n",
       "      <th>3</th>\n",
       "      <td>12997</td>\n",
       "      <td>Male</td>\n",
       "      <td>28.0</td>\n",
       "      <td>0</td>\n",
       "      <td>0</td>\n",
       "      <td>No</td>\n",
       "      <td>Private</td>\n",
       "      <td>Urban</td>\n",
       "      <td>94.76</td>\n",
       "      <td>23.4</td>\n",
       "      <td>NaN</td>\n",
       "    </tr>\n",
       "    <tr>\n",
       "      <th>4</th>\n",
       "      <td>40801</td>\n",
       "      <td>Female</td>\n",
       "      <td>63.0</td>\n",
       "      <td>0</td>\n",
       "      <td>0</td>\n",
       "      <td>Yes</td>\n",
       "      <td>Govt_job</td>\n",
       "      <td>Rural</td>\n",
       "      <td>83.57</td>\n",
       "      <td>27.6</td>\n",
       "      <td>never smoked</td>\n",
       "    </tr>\n",
       "  </tbody>\n",
       "</table>\n",
       "</div>"
      ],
      "text/plain": [
       "      id  gender   age  hypertension  heart_disease ever_married  \\\n",
       "0  36306    Male  80.0             0              0          Yes   \n",
       "1  61829  Female  74.0             0              1          Yes   \n",
       "2  14152  Female  14.0             0              0           No   \n",
       "3  12997    Male  28.0             0              0           No   \n",
       "4  40801  Female  63.0             0              0          Yes   \n",
       "\n",
       "       work_type Residence_type  avg_glucose_level   bmi   smoking_status  \n",
       "0        Private          Urban              83.84  21.1  formerly smoked  \n",
       "1  Self-employed          Rural             179.50  26.0  formerly smoked  \n",
       "2       children          Rural              95.16  21.2              NaN  \n",
       "3        Private          Urban              94.76  23.4              NaN  \n",
       "4       Govt_job          Rural              83.57  27.6     never smoked  "
      ]
     },
     "execution_count": 4,
     "metadata": {},
     "output_type": "execute_result"
    }
   ],
   "source": [
    "test_data.head()"
   ]
  },
  {
   "cell_type": "markdown",
   "metadata": {
    "_uuid": "eff465c90eea895710492dbb6135b5842fa851a1"
   },
   "source": [
    "### Datasets Shape"
   ]
  },
  {
   "cell_type": "code",
   "execution_count": 5,
   "metadata": {
    "_uuid": "9e8713fb89b88242fb650816deff520db01b8677"
   },
   "outputs": [
    {
     "name": "stdout",
     "output_type": "stream",
     "text": [
      "Train Data Shape: (43400, 12)\n",
      "Test Data Shape: (18601, 11)\n"
     ]
    }
   ],
   "source": [
    "print ('Train Data Shape: {}'.format(train_data.shape))\n",
    "\n",
    "print ('Test Data Shape: {}'.format(test_data.shape))"
   ]
  },
  {
   "cell_type": "markdown",
   "metadata": {
    "_uuid": "0a982f9426facdbfada6784e58b56c552e2d87e0"
   },
   "source": [
    "### Description of Train Data "
   ]
  },
  {
   "cell_type": "code",
   "execution_count": 6,
   "metadata": {
    "_uuid": "52d5ec525f1aabcbd6c7519b797fa1e09328e206"
   },
   "outputs": [
    {
     "data": {
      "text/html": [
       "<div>\n",
       "<style scoped>\n",
       "    .dataframe tbody tr th:only-of-type {\n",
       "        vertical-align: middle;\n",
       "    }\n",
       "\n",
       "    .dataframe tbody tr th {\n",
       "        vertical-align: top;\n",
       "    }\n",
       "\n",
       "    .dataframe thead th {\n",
       "        text-align: right;\n",
       "    }\n",
       "</style>\n",
       "<table border=\"1\" class=\"dataframe\">\n",
       "  <thead>\n",
       "    <tr style=\"text-align: right;\">\n",
       "      <th></th>\n",
       "      <th>id</th>\n",
       "      <th>age</th>\n",
       "      <th>hypertension</th>\n",
       "      <th>heart_disease</th>\n",
       "      <th>avg_glucose_level</th>\n",
       "      <th>bmi</th>\n",
       "      <th>stroke</th>\n",
       "    </tr>\n",
       "  </thead>\n",
       "  <tbody>\n",
       "    <tr>\n",
       "      <th>count</th>\n",
       "      <td>43400.000000</td>\n",
       "      <td>43400.000000</td>\n",
       "      <td>43400.000000</td>\n",
       "      <td>43400.000000</td>\n",
       "      <td>43400.000000</td>\n",
       "      <td>41938.000000</td>\n",
       "      <td>43400.000000</td>\n",
       "    </tr>\n",
       "    <tr>\n",
       "      <th>mean</th>\n",
       "      <td>36326.142350</td>\n",
       "      <td>42.217894</td>\n",
       "      <td>0.093571</td>\n",
       "      <td>0.047512</td>\n",
       "      <td>104.482750</td>\n",
       "      <td>28.605038</td>\n",
       "      <td>0.018041</td>\n",
       "    </tr>\n",
       "    <tr>\n",
       "      <th>std</th>\n",
       "      <td>21072.134879</td>\n",
       "      <td>22.519649</td>\n",
       "      <td>0.291235</td>\n",
       "      <td>0.212733</td>\n",
       "      <td>43.111751</td>\n",
       "      <td>7.770020</td>\n",
       "      <td>0.133103</td>\n",
       "    </tr>\n",
       "    <tr>\n",
       "      <th>min</th>\n",
       "      <td>1.000000</td>\n",
       "      <td>0.080000</td>\n",
       "      <td>0.000000</td>\n",
       "      <td>0.000000</td>\n",
       "      <td>55.000000</td>\n",
       "      <td>10.100000</td>\n",
       "      <td>0.000000</td>\n",
       "    </tr>\n",
       "    <tr>\n",
       "      <th>25%</th>\n",
       "      <td>18038.500000</td>\n",
       "      <td>24.000000</td>\n",
       "      <td>0.000000</td>\n",
       "      <td>0.000000</td>\n",
       "      <td>77.540000</td>\n",
       "      <td>23.200000</td>\n",
       "      <td>0.000000</td>\n",
       "    </tr>\n",
       "    <tr>\n",
       "      <th>50%</th>\n",
       "      <td>36351.500000</td>\n",
       "      <td>44.000000</td>\n",
       "      <td>0.000000</td>\n",
       "      <td>0.000000</td>\n",
       "      <td>91.580000</td>\n",
       "      <td>27.700000</td>\n",
       "      <td>0.000000</td>\n",
       "    </tr>\n",
       "    <tr>\n",
       "      <th>75%</th>\n",
       "      <td>54514.250000</td>\n",
       "      <td>60.000000</td>\n",
       "      <td>0.000000</td>\n",
       "      <td>0.000000</td>\n",
       "      <td>112.070000</td>\n",
       "      <td>32.900000</td>\n",
       "      <td>0.000000</td>\n",
       "    </tr>\n",
       "    <tr>\n",
       "      <th>max</th>\n",
       "      <td>72943.000000</td>\n",
       "      <td>82.000000</td>\n",
       "      <td>1.000000</td>\n",
       "      <td>1.000000</td>\n",
       "      <td>291.050000</td>\n",
       "      <td>97.600000</td>\n",
       "      <td>1.000000</td>\n",
       "    </tr>\n",
       "  </tbody>\n",
       "</table>\n",
       "</div>"
      ],
      "text/plain": [
       "                 id           age  hypertension  heart_disease  \\\n",
       "count  43400.000000  43400.000000  43400.000000   43400.000000   \n",
       "mean   36326.142350     42.217894      0.093571       0.047512   \n",
       "std    21072.134879     22.519649      0.291235       0.212733   \n",
       "min        1.000000      0.080000      0.000000       0.000000   \n",
       "25%    18038.500000     24.000000      0.000000       0.000000   \n",
       "50%    36351.500000     44.000000      0.000000       0.000000   \n",
       "75%    54514.250000     60.000000      0.000000       0.000000   \n",
       "max    72943.000000     82.000000      1.000000       1.000000   \n",
       "\n",
       "       avg_glucose_level           bmi        stroke  \n",
       "count       43400.000000  41938.000000  43400.000000  \n",
       "mean          104.482750     28.605038      0.018041  \n",
       "std            43.111751      7.770020      0.133103  \n",
       "min            55.000000     10.100000      0.000000  \n",
       "25%            77.540000     23.200000      0.000000  \n",
       "50%            91.580000     27.700000      0.000000  \n",
       "75%           112.070000     32.900000      0.000000  \n",
       "max           291.050000     97.600000      1.000000  "
      ]
     },
     "execution_count": 6,
     "metadata": {},
     "output_type": "execute_result"
    }
   ],
   "source": [
    "train_data.describe()"
   ]
  },
  {
   "cell_type": "markdown",
   "metadata": {
    "_uuid": "10cdd527f598ea937fa4eed42ff436c7c49cfe8a"
   },
   "source": [
    "## Data Preprocessing"
   ]
  },
  {
   "cell_type": "markdown",
   "metadata": {
    "_uuid": "d4830c71ba0b5a9ea40df872440257c4be63474e"
   },
   "source": [
    "### Data Cleaning"
   ]
  },
  {
   "cell_type": "markdown",
   "metadata": {
    "_uuid": "554025055601ca0d7b77419c6a135093fd5187bf"
   },
   "source": [
    "### Missing Values for Train and Test Data"
   ]
  },
  {
   "cell_type": "code",
   "execution_count": 7,
   "metadata": {
    "_uuid": "2dec15c45a0a440e4b74b3bec4e3098a712ddf81"
   },
   "outputs": [
    {
     "data": {
      "text/plain": [
       "id                    0.000000\n",
       "gender                0.000000\n",
       "age                   0.000000\n",
       "hypertension          0.000000\n",
       "heart_disease         0.000000\n",
       "ever_married          0.000000\n",
       "work_type             0.000000\n",
       "Residence_type        0.000000\n",
       "avg_glucose_level     0.000000\n",
       "bmi                   3.368664\n",
       "smoking_status       30.626728\n",
       "stroke                0.000000\n",
       "dtype: float64"
      ]
     },
     "execution_count": 7,
     "metadata": {},
     "output_type": "execute_result"
    }
   ],
   "source": [
    "train_data.isnull().sum()/len(train_data)*100"
   ]
  },
  {
   "cell_type": "code",
   "execution_count": 8,
   "metadata": {
    "_uuid": "4e6069572151a094f85ee6d60026bfc642523c7d"
   },
   "outputs": [
    {
     "data": {
      "text/plain": [
       "id                    0.000000\n",
       "gender                0.000000\n",
       "age                   0.000000\n",
       "hypertension          0.000000\n",
       "heart_disease         0.000000\n",
       "ever_married          0.000000\n",
       "work_type             0.000000\n",
       "Residence_type        0.000000\n",
       "avg_glucose_level     0.000000\n",
       "bmi                   3.177249\n",
       "smoking_status       30.917693\n",
       "dtype: float64"
      ]
     },
     "execution_count": 8,
     "metadata": {},
     "output_type": "execute_result"
    }
   ],
   "source": [
    "test_data.isnull().sum()/len(test_data)*100"
   ]
  },
  {
   "cell_type": "code",
   "execution_count": 9,
   "metadata": {
    "_uuid": "40e4cd51bf95679f7984bc9e4d21c44c7a775f16"
   },
   "outputs": [],
   "source": [
    "joined_data = pd.concat([train_data,test_data])"
   ]
  },
  {
   "cell_type": "code",
   "execution_count": 10,
   "metadata": {
    "_uuid": "cb3c688550e2b551175b89a2fb672a09c6f38824"
   },
   "outputs": [
    {
     "name": "stdout",
     "output_type": "stream",
     "text": [
      "Joined Data Shape: (62001, 12)\n"
     ]
    }
   ],
   "source": [
    "print ('Joined Data Shape: {}'.format(joined_data.shape))"
   ]
  },
  {
   "cell_type": "markdown",
   "metadata": {
    "_uuid": "9e76c1c074dfe8c99491e40c44c387ccf5c4caa8"
   },
   "source": [
    "### Missing Data for Joined Data"
   ]
  },
  {
   "cell_type": "code",
   "execution_count": 11,
   "metadata": {
    "_uuid": "21abbcb4802b9aa0041de413f06c554a43e49f48"
   },
   "outputs": [
    {
     "data": {
      "text/plain": [
       "id                    0.000000\n",
       "gender                0.000000\n",
       "age                   0.000000\n",
       "hypertension          0.000000\n",
       "heart_disease         0.000000\n",
       "ever_married          0.000000\n",
       "work_type             0.000000\n",
       "Residence_type        0.000000\n",
       "avg_glucose_level     0.000000\n",
       "bmi                   3.311237\n",
       "smoking_status       30.714021\n",
       "stroke               30.001129\n",
       "dtype: float64"
      ]
     },
     "execution_count": 11,
     "metadata": {},
     "output_type": "execute_result"
    }
   ],
   "source": [
    "joined_data.isnull().sum()/len(joined_data)*100"
   ]
  },
  {
   "cell_type": "markdown",
   "metadata": {
    "_uuid": "9a07829136e06a4ae5eaaf0791b32459c645709c"
   },
   "source": [
    "### Joined Data has bmi 3.33% data is missing and smoking_status is 30.7% missing"
   ]
  },
  {
   "cell_type": "code",
   "execution_count": 12,
   "metadata": {
    "_uuid": "427e9a5405786373b65966b0e11d17ce0d5ad030"
   },
   "outputs": [],
   "source": [
    "train_data[\"bmi\"]=train_data[\"bmi\"].fillna(train_data[\"bmi\"].mean())"
   ]
  },
  {
   "cell_type": "code",
   "execution_count": 13,
   "metadata": {
    "_uuid": "8dcb27f64db915ad27abd4a369e1716689e37c40"
   },
   "outputs": [
    {
     "data": {
      "text/html": [
       "<div>\n",
       "<style scoped>\n",
       "    .dataframe tbody tr th:only-of-type {\n",
       "        vertical-align: middle;\n",
       "    }\n",
       "\n",
       "    .dataframe tbody tr th {\n",
       "        vertical-align: top;\n",
       "    }\n",
       "\n",
       "    .dataframe thead th {\n",
       "        text-align: right;\n",
       "    }\n",
       "</style>\n",
       "<table border=\"1\" class=\"dataframe\">\n",
       "  <thead>\n",
       "    <tr style=\"text-align: right;\">\n",
       "      <th></th>\n",
       "      <th>id</th>\n",
       "      <th>gender</th>\n",
       "      <th>age</th>\n",
       "      <th>hypertension</th>\n",
       "      <th>heart_disease</th>\n",
       "      <th>ever_married</th>\n",
       "      <th>work_type</th>\n",
       "      <th>Residence_type</th>\n",
       "      <th>avg_glucose_level</th>\n",
       "      <th>bmi</th>\n",
       "      <th>smoking_status</th>\n",
       "      <th>stroke</th>\n",
       "    </tr>\n",
       "  </thead>\n",
       "  <tbody>\n",
       "    <tr>\n",
       "      <th>0</th>\n",
       "      <td>30669</td>\n",
       "      <td>Male</td>\n",
       "      <td>3.0</td>\n",
       "      <td>0</td>\n",
       "      <td>0</td>\n",
       "      <td>No</td>\n",
       "      <td>children</td>\n",
       "      <td>Rural</td>\n",
       "      <td>95.12</td>\n",
       "      <td>18.0</td>\n",
       "      <td>NaN</td>\n",
       "      <td>0</td>\n",
       "    </tr>\n",
       "    <tr>\n",
       "      <th>1</th>\n",
       "      <td>30468</td>\n",
       "      <td>Male</td>\n",
       "      <td>58.0</td>\n",
       "      <td>1</td>\n",
       "      <td>0</td>\n",
       "      <td>Yes</td>\n",
       "      <td>Private</td>\n",
       "      <td>Urban</td>\n",
       "      <td>87.96</td>\n",
       "      <td>39.2</td>\n",
       "      <td>never smoked</td>\n",
       "      <td>0</td>\n",
       "    </tr>\n",
       "    <tr>\n",
       "      <th>2</th>\n",
       "      <td>16523</td>\n",
       "      <td>Female</td>\n",
       "      <td>8.0</td>\n",
       "      <td>0</td>\n",
       "      <td>0</td>\n",
       "      <td>No</td>\n",
       "      <td>Private</td>\n",
       "      <td>Urban</td>\n",
       "      <td>110.89</td>\n",
       "      <td>17.6</td>\n",
       "      <td>NaN</td>\n",
       "      <td>0</td>\n",
       "    </tr>\n",
       "    <tr>\n",
       "      <th>3</th>\n",
       "      <td>56543</td>\n",
       "      <td>Female</td>\n",
       "      <td>70.0</td>\n",
       "      <td>0</td>\n",
       "      <td>0</td>\n",
       "      <td>Yes</td>\n",
       "      <td>Private</td>\n",
       "      <td>Rural</td>\n",
       "      <td>69.04</td>\n",
       "      <td>35.9</td>\n",
       "      <td>formerly smoked</td>\n",
       "      <td>0</td>\n",
       "    </tr>\n",
       "    <tr>\n",
       "      <th>4</th>\n",
       "      <td>46136</td>\n",
       "      <td>Male</td>\n",
       "      <td>14.0</td>\n",
       "      <td>0</td>\n",
       "      <td>0</td>\n",
       "      <td>No</td>\n",
       "      <td>Never_worked</td>\n",
       "      <td>Rural</td>\n",
       "      <td>161.28</td>\n",
       "      <td>19.1</td>\n",
       "      <td>NaN</td>\n",
       "      <td>0</td>\n",
       "    </tr>\n",
       "  </tbody>\n",
       "</table>\n",
       "</div>"
      ],
      "text/plain": [
       "      id  gender   age  hypertension  heart_disease ever_married  \\\n",
       "0  30669    Male   3.0             0              0           No   \n",
       "1  30468    Male  58.0             1              0          Yes   \n",
       "2  16523  Female   8.0             0              0           No   \n",
       "3  56543  Female  70.0             0              0          Yes   \n",
       "4  46136    Male  14.0             0              0           No   \n",
       "\n",
       "      work_type Residence_type  avg_glucose_level   bmi   smoking_status  \\\n",
       "0      children          Rural              95.12  18.0              NaN   \n",
       "1       Private          Urban              87.96  39.2     never smoked   \n",
       "2       Private          Urban             110.89  17.6              NaN   \n",
       "3       Private          Rural              69.04  35.9  formerly smoked   \n",
       "4  Never_worked          Rural             161.28  19.1              NaN   \n",
       "\n",
       "   stroke  \n",
       "0       0  \n",
       "1       0  \n",
       "2       0  \n",
       "3       0  \n",
       "4       0  "
      ]
     },
     "execution_count": 13,
     "metadata": {},
     "output_type": "execute_result"
    }
   ],
   "source": [
    "train_data.head()"
   ]
  },
  {
   "cell_type": "markdown",
   "metadata": {
    "_uuid": "fa207b44607c491bc99452c2ca4a256ea9e8b570"
   },
   "source": [
    "### Handling Categorical Variables"
   ]
  },
  {
   "cell_type": "code",
   "execution_count": 14,
   "metadata": {
    "_uuid": "b5767db9c32a0d518b18651ead1d5ed33b7166bc"
   },
   "outputs": [],
   "source": [
    "label = LabelEncoder()\n",
    "train_data['gender'] = label.fit_transform(train_data['gender'])\n",
    "train_data['ever_married'] = label.fit_transform(train_data['ever_married'])\n",
    "train_data['work_type']= label.fit_transform(train_data['work_type'])\n",
    "train_data['Residence_type']= label.fit_transform(train_data['Residence_type'])"
   ]
  },
  {
   "cell_type": "code",
   "execution_count": 15,
   "metadata": {
    "_uuid": "c801c58b1034fb7e6b23dbb86ffcf5a15d0f9172"
   },
   "outputs": [],
   "source": [
    "train_data_without_smoke = train_data[train_data['smoking_status'].isnull()]\n",
    "train_data_with_smoke = train_data[train_data['smoking_status'].notnull()]"
   ]
  },
  {
   "cell_type": "code",
   "execution_count": 16,
   "metadata": {
    "_uuid": "bd153ec2f7d4cc0dbe6789a9bd01f924047d872e"
   },
   "outputs": [
    {
     "name": "stderr",
     "output_type": "stream",
     "text": [
      "/home/monad/anaconda3/envs/tff/lib/python3.6/site-packages/pandas/core/frame.py:3997: SettingWithCopyWarning: \n",
      "A value is trying to be set on a copy of a slice from a DataFrame\n",
      "\n",
      "See the caveats in the documentation: https://pandas.pydata.org/pandas-docs/stable/user_guide/indexing.html#returning-a-view-versus-a-copy\n",
      "  errors=errors,\n"
     ]
    }
   ],
   "source": [
    "train_data_without_smoke.drop(columns='smoking_status',axis=1,inplace=True)"
   ]
  },
  {
   "cell_type": "code",
   "execution_count": 17,
   "metadata": {
    "_uuid": "2b4bc5d832173a9ac7b25b8f4f151c3961eea8dd"
   },
   "outputs": [
    {
     "data": {
      "text/html": [
       "<div>\n",
       "<style scoped>\n",
       "    .dataframe tbody tr th:only-of-type {\n",
       "        vertical-align: middle;\n",
       "    }\n",
       "\n",
       "    .dataframe tbody tr th {\n",
       "        vertical-align: top;\n",
       "    }\n",
       "\n",
       "    .dataframe thead th {\n",
       "        text-align: right;\n",
       "    }\n",
       "</style>\n",
       "<table border=\"1\" class=\"dataframe\">\n",
       "  <thead>\n",
       "    <tr style=\"text-align: right;\">\n",
       "      <th></th>\n",
       "      <th>id</th>\n",
       "      <th>gender</th>\n",
       "      <th>age</th>\n",
       "      <th>hypertension</th>\n",
       "      <th>heart_disease</th>\n",
       "      <th>ever_married</th>\n",
       "      <th>work_type</th>\n",
       "      <th>Residence_type</th>\n",
       "      <th>avg_glucose_level</th>\n",
       "      <th>bmi</th>\n",
       "      <th>stroke</th>\n",
       "    </tr>\n",
       "  </thead>\n",
       "  <tbody>\n",
       "    <tr>\n",
       "      <th>0</th>\n",
       "      <td>30669</td>\n",
       "      <td>1</td>\n",
       "      <td>3.0</td>\n",
       "      <td>0</td>\n",
       "      <td>0</td>\n",
       "      <td>0</td>\n",
       "      <td>4</td>\n",
       "      <td>0</td>\n",
       "      <td>95.12</td>\n",
       "      <td>18.0</td>\n",
       "      <td>0</td>\n",
       "    </tr>\n",
       "    <tr>\n",
       "      <th>2</th>\n",
       "      <td>16523</td>\n",
       "      <td>0</td>\n",
       "      <td>8.0</td>\n",
       "      <td>0</td>\n",
       "      <td>0</td>\n",
       "      <td>0</td>\n",
       "      <td>2</td>\n",
       "      <td>1</td>\n",
       "      <td>110.89</td>\n",
       "      <td>17.6</td>\n",
       "      <td>0</td>\n",
       "    </tr>\n",
       "    <tr>\n",
       "      <th>4</th>\n",
       "      <td>46136</td>\n",
       "      <td>1</td>\n",
       "      <td>14.0</td>\n",
       "      <td>0</td>\n",
       "      <td>0</td>\n",
       "      <td>0</td>\n",
       "      <td>1</td>\n",
       "      <td>0</td>\n",
       "      <td>161.28</td>\n",
       "      <td>19.1</td>\n",
       "      <td>0</td>\n",
       "    </tr>\n",
       "    <tr>\n",
       "      <th>5</th>\n",
       "      <td>32257</td>\n",
       "      <td>0</td>\n",
       "      <td>47.0</td>\n",
       "      <td>0</td>\n",
       "      <td>0</td>\n",
       "      <td>1</td>\n",
       "      <td>2</td>\n",
       "      <td>1</td>\n",
       "      <td>210.95</td>\n",
       "      <td>50.1</td>\n",
       "      <td>0</td>\n",
       "    </tr>\n",
       "    <tr>\n",
       "      <th>10</th>\n",
       "      <td>10460</td>\n",
       "      <td>0</td>\n",
       "      <td>79.0</td>\n",
       "      <td>0</td>\n",
       "      <td>0</td>\n",
       "      <td>1</td>\n",
       "      <td>0</td>\n",
       "      <td>1</td>\n",
       "      <td>77.08</td>\n",
       "      <td>35.0</td>\n",
       "      <td>0</td>\n",
       "    </tr>\n",
       "  </tbody>\n",
       "</table>\n",
       "</div>"
      ],
      "text/plain": [
       "       id  gender   age  hypertension  heart_disease  ever_married  work_type  \\\n",
       "0   30669       1   3.0             0              0             0          4   \n",
       "2   16523       0   8.0             0              0             0          2   \n",
       "4   46136       1  14.0             0              0             0          1   \n",
       "5   32257       0  47.0             0              0             1          2   \n",
       "10  10460       0  79.0             0              0             1          0   \n",
       "\n",
       "    Residence_type  avg_glucose_level   bmi  stroke  \n",
       "0                0              95.12  18.0       0  \n",
       "2                1             110.89  17.6       0  \n",
       "4                0             161.28  19.1       0  \n",
       "5                1             210.95  50.1       0  \n",
       "10               1              77.08  35.0       0  "
      ]
     },
     "execution_count": 17,
     "metadata": {},
     "output_type": "execute_result"
    }
   ],
   "source": [
    "train_data_without_smoke.head()"
   ]
  },
  {
   "cell_type": "code",
   "execution_count": 18,
   "metadata": {
    "_uuid": "9e4eb463043a72c9d7d3f30e237b14f0f14af3d1"
   },
   "outputs": [
    {
     "data": {
      "text/html": [
       "<div>\n",
       "<style scoped>\n",
       "    .dataframe tbody tr th:only-of-type {\n",
       "        vertical-align: middle;\n",
       "    }\n",
       "\n",
       "    .dataframe tbody tr th {\n",
       "        vertical-align: top;\n",
       "    }\n",
       "\n",
       "    .dataframe thead th {\n",
       "        text-align: right;\n",
       "    }\n",
       "</style>\n",
       "<table border=\"1\" class=\"dataframe\">\n",
       "  <thead>\n",
       "    <tr style=\"text-align: right;\">\n",
       "      <th></th>\n",
       "      <th>id</th>\n",
       "      <th>gender</th>\n",
       "      <th>age</th>\n",
       "      <th>hypertension</th>\n",
       "      <th>heart_disease</th>\n",
       "      <th>ever_married</th>\n",
       "      <th>work_type</th>\n",
       "      <th>Residence_type</th>\n",
       "      <th>avg_glucose_level</th>\n",
       "      <th>bmi</th>\n",
       "      <th>smoking_status</th>\n",
       "      <th>stroke</th>\n",
       "    </tr>\n",
       "  </thead>\n",
       "  <tbody>\n",
       "    <tr>\n",
       "      <th>1</th>\n",
       "      <td>30468</td>\n",
       "      <td>1</td>\n",
       "      <td>58.0</td>\n",
       "      <td>1</td>\n",
       "      <td>0</td>\n",
       "      <td>1</td>\n",
       "      <td>2</td>\n",
       "      <td>1</td>\n",
       "      <td>87.96</td>\n",
       "      <td>39.2</td>\n",
       "      <td>never smoked</td>\n",
       "      <td>0</td>\n",
       "    </tr>\n",
       "    <tr>\n",
       "      <th>3</th>\n",
       "      <td>56543</td>\n",
       "      <td>0</td>\n",
       "      <td>70.0</td>\n",
       "      <td>0</td>\n",
       "      <td>0</td>\n",
       "      <td>1</td>\n",
       "      <td>2</td>\n",
       "      <td>0</td>\n",
       "      <td>69.04</td>\n",
       "      <td>35.9</td>\n",
       "      <td>formerly smoked</td>\n",
       "      <td>0</td>\n",
       "    </tr>\n",
       "    <tr>\n",
       "      <th>6</th>\n",
       "      <td>52800</td>\n",
       "      <td>0</td>\n",
       "      <td>52.0</td>\n",
       "      <td>0</td>\n",
       "      <td>0</td>\n",
       "      <td>1</td>\n",
       "      <td>2</td>\n",
       "      <td>1</td>\n",
       "      <td>77.59</td>\n",
       "      <td>17.7</td>\n",
       "      <td>formerly smoked</td>\n",
       "      <td>0</td>\n",
       "    </tr>\n",
       "    <tr>\n",
       "      <th>7</th>\n",
       "      <td>41413</td>\n",
       "      <td>0</td>\n",
       "      <td>75.0</td>\n",
       "      <td>0</td>\n",
       "      <td>1</td>\n",
       "      <td>1</td>\n",
       "      <td>3</td>\n",
       "      <td>0</td>\n",
       "      <td>243.53</td>\n",
       "      <td>27.0</td>\n",
       "      <td>never smoked</td>\n",
       "      <td>0</td>\n",
       "    </tr>\n",
       "    <tr>\n",
       "      <th>8</th>\n",
       "      <td>15266</td>\n",
       "      <td>0</td>\n",
       "      <td>32.0</td>\n",
       "      <td>0</td>\n",
       "      <td>0</td>\n",
       "      <td>1</td>\n",
       "      <td>2</td>\n",
       "      <td>0</td>\n",
       "      <td>77.67</td>\n",
       "      <td>32.3</td>\n",
       "      <td>smokes</td>\n",
       "      <td>0</td>\n",
       "    </tr>\n",
       "  </tbody>\n",
       "</table>\n",
       "</div>"
      ],
      "text/plain": [
       "      id  gender   age  hypertension  heart_disease  ever_married  work_type  \\\n",
       "1  30468       1  58.0             1              0             1          2   \n",
       "3  56543       0  70.0             0              0             1          2   \n",
       "6  52800       0  52.0             0              0             1          2   \n",
       "7  41413       0  75.0             0              1             1          3   \n",
       "8  15266       0  32.0             0              0             1          2   \n",
       "\n",
       "   Residence_type  avg_glucose_level   bmi   smoking_status  stroke  \n",
       "1               1              87.96  39.2     never smoked       0  \n",
       "3               0              69.04  35.9  formerly smoked       0  \n",
       "6               1              77.59  17.7  formerly smoked       0  \n",
       "7               0             243.53  27.0     never smoked       0  \n",
       "8               0              77.67  32.3           smokes       0  "
      ]
     },
     "execution_count": 18,
     "metadata": {},
     "output_type": "execute_result"
    }
   ],
   "source": [
    "train_data_with_smoke.head()"
   ]
  },
  {
   "cell_type": "code",
   "execution_count": 19,
   "metadata": {
    "_uuid": "4f9537f3e926d8777dd0f792d1a901f403b56195"
   },
   "outputs": [
    {
     "name": "stderr",
     "output_type": "stream",
     "text": [
      "/home/monad/anaconda3/envs/tff/lib/python3.6/site-packages/ipykernel_launcher.py:1: SettingWithCopyWarning: \n",
      "A value is trying to be set on a copy of a slice from a DataFrame.\n",
      "Try using .loc[row_indexer,col_indexer] = value instead\n",
      "\n",
      "See the caveats in the documentation: https://pandas.pydata.org/pandas-docs/stable/user_guide/indexing.html#returning-a-view-versus-a-copy\n",
      "  \"\"\"Entry point for launching an IPython kernel.\n"
     ]
    }
   ],
   "source": [
    "train_data_with_smoke['smoking_status']= label.fit_transform(train_data_with_smoke['smoking_status'])"
   ]
  },
  {
   "cell_type": "code",
   "execution_count": 20,
   "metadata": {
    "_uuid": "e0a0e2b5eade7ae20652e33aa271fbff054761c7"
   },
   "outputs": [
    {
     "data": {
      "text/plain": [
       "(30108, 12)"
      ]
     },
     "execution_count": 20,
     "metadata": {},
     "output_type": "execute_result"
    }
   ],
   "source": [
    "train_data_with_smoke.head()\n",
    "train_data_with_smoke.shape"
   ]
  },
  {
   "cell_type": "code",
   "execution_count": 21,
   "metadata": {
    "_uuid": "f3d755895a7cec410f1925063a1142d40b1116d8"
   },
   "outputs": [
    {
     "data": {
      "text/html": [
       "<div>\n",
       "<style scoped>\n",
       "    .dataframe tbody tr th:only-of-type {\n",
       "        vertical-align: middle;\n",
       "    }\n",
       "\n",
       "    .dataframe tbody tr th {\n",
       "        vertical-align: top;\n",
       "    }\n",
       "\n",
       "    .dataframe thead th {\n",
       "        text-align: right;\n",
       "    }\n",
       "</style>\n",
       "<table border=\"1\" class=\"dataframe\">\n",
       "  <thead>\n",
       "    <tr style=\"text-align: right;\">\n",
       "      <th></th>\n",
       "      <th>id</th>\n",
       "      <th>gender</th>\n",
       "      <th>age</th>\n",
       "      <th>hypertension</th>\n",
       "      <th>heart_disease</th>\n",
       "      <th>ever_married</th>\n",
       "      <th>work_type</th>\n",
       "      <th>Residence_type</th>\n",
       "      <th>avg_glucose_level</th>\n",
       "      <th>bmi</th>\n",
       "      <th>smoking_status</th>\n",
       "      <th>stroke</th>\n",
       "    </tr>\n",
       "  </thead>\n",
       "  <tbody>\n",
       "    <tr>\n",
       "      <th>id</th>\n",
       "      <td>1.000000</td>\n",
       "      <td>0.005445</td>\n",
       "      <td>0.000131</td>\n",
       "      <td>0.002157</td>\n",
       "      <td>0.013075</td>\n",
       "      <td>0.000043</td>\n",
       "      <td>0.008955</td>\n",
       "      <td>-0.000966</td>\n",
       "      <td>0.020976</td>\n",
       "      <td>0.013226</td>\n",
       "      <td>0.004082</td>\n",
       "      <td>0.002238</td>\n",
       "    </tr>\n",
       "    <tr>\n",
       "      <th>gender</th>\n",
       "      <td>0.005445</td>\n",
       "      <td>1.000000</td>\n",
       "      <td>0.040785</td>\n",
       "      <td>0.037431</td>\n",
       "      <td>0.097549</td>\n",
       "      <td>0.024852</td>\n",
       "      <td>0.010247</td>\n",
       "      <td>0.004814</td>\n",
       "      <td>0.053496</td>\n",
       "      <td>0.019278</td>\n",
       "      <td>-0.013613</td>\n",
       "      <td>0.013689</td>\n",
       "    </tr>\n",
       "    <tr>\n",
       "      <th>age</th>\n",
       "      <td>0.000131</td>\n",
       "      <td>0.040785</td>\n",
       "      <td>1.000000</td>\n",
       "      <td>0.259528</td>\n",
       "      <td>0.251819</td>\n",
       "      <td>0.546996</td>\n",
       "      <td>0.018850</td>\n",
       "      <td>0.004044</td>\n",
       "      <td>0.230682</td>\n",
       "      <td>0.101619</td>\n",
       "      <td>-0.147968</td>\n",
       "      <td>0.159838</td>\n",
       "    </tr>\n",
       "    <tr>\n",
       "      <th>hypertension</th>\n",
       "      <td>0.002157</td>\n",
       "      <td>0.037431</td>\n",
       "      <td>0.259528</td>\n",
       "      <td>1.000000</td>\n",
       "      <td>0.114957</td>\n",
       "      <td>0.133258</td>\n",
       "      <td>0.019309</td>\n",
       "      <td>-0.004427</td>\n",
       "      <td>0.154702</td>\n",
       "      <td>0.120730</td>\n",
       "      <td>-0.030094</td>\n",
       "      <td>0.073310</td>\n",
       "    </tr>\n",
       "    <tr>\n",
       "      <th>heart_disease</th>\n",
       "      <td>0.013075</td>\n",
       "      <td>0.097549</td>\n",
       "      <td>0.251819</td>\n",
       "      <td>0.114957</td>\n",
       "      <td>1.000000</td>\n",
       "      <td>0.098229</td>\n",
       "      <td>0.034466</td>\n",
       "      <td>-0.000583</td>\n",
       "      <td>0.139449</td>\n",
       "      <td>0.018562</td>\n",
       "      <td>-0.035660</td>\n",
       "      <td>0.107007</td>\n",
       "    </tr>\n",
       "    <tr>\n",
       "      <th>ever_married</th>\n",
       "      <td>0.000043</td>\n",
       "      <td>0.024852</td>\n",
       "      <td>0.546996</td>\n",
       "      <td>0.133258</td>\n",
       "      <td>0.098229</td>\n",
       "      <td>1.000000</td>\n",
       "      <td>-0.067305</td>\n",
       "      <td>0.004990</td>\n",
       "      <td>0.120161</td>\n",
       "      <td>0.139949</td>\n",
       "      <td>-0.053049</td>\n",
       "      <td>0.051666</td>\n",
       "    </tr>\n",
       "    <tr>\n",
       "      <th>work_type</th>\n",
       "      <td>0.008955</td>\n",
       "      <td>0.010247</td>\n",
       "      <td>0.018850</td>\n",
       "      <td>0.019309</td>\n",
       "      <td>0.034466</td>\n",
       "      <td>-0.067305</td>\n",
       "      <td>1.000000</td>\n",
       "      <td>-0.010796</td>\n",
       "      <td>0.008315</td>\n",
       "      <td>-0.066278</td>\n",
       "      <td>-0.030810</td>\n",
       "      <td>0.025708</td>\n",
       "    </tr>\n",
       "    <tr>\n",
       "      <th>Residence_type</th>\n",
       "      <td>-0.000966</td>\n",
       "      <td>0.004814</td>\n",
       "      <td>0.004044</td>\n",
       "      <td>-0.004427</td>\n",
       "      <td>-0.000583</td>\n",
       "      <td>0.004990</td>\n",
       "      <td>-0.010796</td>\n",
       "      <td>1.000000</td>\n",
       "      <td>-0.001361</td>\n",
       "      <td>-0.002944</td>\n",
       "      <td>0.010095</td>\n",
       "      <td>0.002064</td>\n",
       "    </tr>\n",
       "    <tr>\n",
       "      <th>avg_glucose_level</th>\n",
       "      <td>0.020976</td>\n",
       "      <td>0.053496</td>\n",
       "      <td>0.230682</td>\n",
       "      <td>0.154702</td>\n",
       "      <td>0.139449</td>\n",
       "      <td>0.120161</td>\n",
       "      <td>0.008315</td>\n",
       "      <td>-0.001361</td>\n",
       "      <td>1.000000</td>\n",
       "      <td>0.167699</td>\n",
       "      <td>-0.035164</td>\n",
       "      <td>0.077206</td>\n",
       "    </tr>\n",
       "    <tr>\n",
       "      <th>bmi</th>\n",
       "      <td>0.013226</td>\n",
       "      <td>0.019278</td>\n",
       "      <td>0.101619</td>\n",
       "      <td>0.120730</td>\n",
       "      <td>0.018562</td>\n",
       "      <td>0.139949</td>\n",
       "      <td>-0.066278</td>\n",
       "      <td>-0.002944</td>\n",
       "      <td>0.167699</td>\n",
       "      <td>1.000000</td>\n",
       "      <td>-0.035568</td>\n",
       "      <td>-0.006950</td>\n",
       "    </tr>\n",
       "    <tr>\n",
       "      <th>smoking_status</th>\n",
       "      <td>0.004082</td>\n",
       "      <td>-0.013613</td>\n",
       "      <td>-0.147968</td>\n",
       "      <td>-0.030094</td>\n",
       "      <td>-0.035660</td>\n",
       "      <td>-0.053049</td>\n",
       "      <td>-0.030810</td>\n",
       "      <td>0.010095</td>\n",
       "      <td>-0.035164</td>\n",
       "      <td>-0.035568</td>\n",
       "      <td>1.000000</td>\n",
       "      <td>-0.023068</td>\n",
       "    </tr>\n",
       "    <tr>\n",
       "      <th>stroke</th>\n",
       "      <td>0.002238</td>\n",
       "      <td>0.013689</td>\n",
       "      <td>0.159838</td>\n",
       "      <td>0.073310</td>\n",
       "      <td>0.107007</td>\n",
       "      <td>0.051666</td>\n",
       "      <td>0.025708</td>\n",
       "      <td>0.002064</td>\n",
       "      <td>0.077206</td>\n",
       "      <td>-0.006950</td>\n",
       "      <td>-0.023068</td>\n",
       "      <td>1.000000</td>\n",
       "    </tr>\n",
       "  </tbody>\n",
       "</table>\n",
       "</div>"
      ],
      "text/plain": [
       "                         id    gender       age  hypertension  heart_disease  \\\n",
       "id                 1.000000  0.005445  0.000131      0.002157       0.013075   \n",
       "gender             0.005445  1.000000  0.040785      0.037431       0.097549   \n",
       "age                0.000131  0.040785  1.000000      0.259528       0.251819   \n",
       "hypertension       0.002157  0.037431  0.259528      1.000000       0.114957   \n",
       "heart_disease      0.013075  0.097549  0.251819      0.114957       1.000000   \n",
       "ever_married       0.000043  0.024852  0.546996      0.133258       0.098229   \n",
       "work_type          0.008955  0.010247  0.018850      0.019309       0.034466   \n",
       "Residence_type    -0.000966  0.004814  0.004044     -0.004427      -0.000583   \n",
       "avg_glucose_level  0.020976  0.053496  0.230682      0.154702       0.139449   \n",
       "bmi                0.013226  0.019278  0.101619      0.120730       0.018562   \n",
       "smoking_status     0.004082 -0.013613 -0.147968     -0.030094      -0.035660   \n",
       "stroke             0.002238  0.013689  0.159838      0.073310       0.107007   \n",
       "\n",
       "                   ever_married  work_type  Residence_type  avg_glucose_level  \\\n",
       "id                     0.000043   0.008955       -0.000966           0.020976   \n",
       "gender                 0.024852   0.010247        0.004814           0.053496   \n",
       "age                    0.546996   0.018850        0.004044           0.230682   \n",
       "hypertension           0.133258   0.019309       -0.004427           0.154702   \n",
       "heart_disease          0.098229   0.034466       -0.000583           0.139449   \n",
       "ever_married           1.000000  -0.067305        0.004990           0.120161   \n",
       "work_type             -0.067305   1.000000       -0.010796           0.008315   \n",
       "Residence_type         0.004990  -0.010796        1.000000          -0.001361   \n",
       "avg_glucose_level      0.120161   0.008315       -0.001361           1.000000   \n",
       "bmi                    0.139949  -0.066278       -0.002944           0.167699   \n",
       "smoking_status        -0.053049  -0.030810        0.010095          -0.035164   \n",
       "stroke                 0.051666   0.025708        0.002064           0.077206   \n",
       "\n",
       "                        bmi  smoking_status    stroke  \n",
       "id                 0.013226        0.004082  0.002238  \n",
       "gender             0.019278       -0.013613  0.013689  \n",
       "age                0.101619       -0.147968  0.159838  \n",
       "hypertension       0.120730       -0.030094  0.073310  \n",
       "heart_disease      0.018562       -0.035660  0.107007  \n",
       "ever_married       0.139949       -0.053049  0.051666  \n",
       "work_type         -0.066278       -0.030810  0.025708  \n",
       "Residence_type    -0.002944        0.010095  0.002064  \n",
       "avg_glucose_level  0.167699       -0.035164  0.077206  \n",
       "bmi                1.000000       -0.035568 -0.006950  \n",
       "smoking_status    -0.035568        1.000000 -0.023068  \n",
       "stroke            -0.006950       -0.023068  1.000000  "
      ]
     },
     "execution_count": 21,
     "metadata": {},
     "output_type": "execute_result"
    }
   ],
   "source": [
    "train_data_with_smoke.corr('pearson')"
   ]
  },
  {
   "cell_type": "markdown",
   "metadata": {
    "_uuid": "8ab79b47274dcd9d7ac2425ff752b49e429037d7"
   },
   "source": [
    "### Handling Imbalanced Data\n",
    "#### Now lets look at the number of positive and negative cases we have for stroke data"
   ]
  },
  {
   "cell_type": "code",
   "execution_count": 22,
   "metadata": {
    "_uuid": "d24e92096ff366d2cc4195b14684a93d2ee175a9"
   },
   "outputs": [
    {
     "data": {
      "text/plain": [
       "0    29470\n",
       "1      638\n",
       "Name: stroke, dtype: int64"
      ]
     },
     "execution_count": 22,
     "metadata": {},
     "output_type": "execute_result"
    }
   ],
   "source": [
    "train_data_with_smoke['stroke'].value_counts()"
   ]
  },
  {
   "cell_type": "code",
   "execution_count": 23,
   "metadata": {
    "_uuid": "b1f6093fd89c7868e5d0e2eadf3139d97bb8581a"
   },
   "outputs": [
    {
     "data": {
      "text/plain": [
       "0    13147\n",
       "1      145\n",
       "Name: stroke, dtype: int64"
      ]
     },
     "execution_count": 23,
     "metadata": {},
     "output_type": "execute_result"
    }
   ],
   "source": [
    "train_data_without_smoke['stroke'].value_counts()"
   ]
  },
  {
   "cell_type": "markdown",
   "metadata": {
    "_uuid": "8e8501096db0c857275ec4491802056069a8a091"
   },
   "source": [
    "#### In both cases we can see we are dealing with imbalanced data set, if we go ahead with that there is a high possibility that it ML algorithm will predict no stroke for all data. So we need to make the data more balanced\n",
    "\n",
    "#### I am using ROSE method to deal with that and make data more balanced which generates artificial data to make the set more balanced"
   ]
  },
  {
   "cell_type": "code",
   "execution_count": 24,
   "metadata": {
    "_uuid": "e220b747279e63f92d1eb0dc954a946d816205fa"
   },
   "outputs": [],
   "source": [
    "ros = RandomOverSampler(random_state=0)\n",
    "smote = SMOTE()"
   ]
  },
  {
   "cell_type": "code",
   "execution_count": 28,
   "metadata": {
    "_uuid": "c35ed04a2cc2818778767a4190c614b723c3ff4a"
   },
   "outputs": [],
   "source": [
    "X_resampled, y_resampled = ros.fit_sample(train_data_with_smoke.loc[:,train_data_with_smoke.columns!='stroke'], \n",
    "                                            train_data_with_smoke['stroke'])"
   ]
  },
  {
   "cell_type": "code",
   "execution_count": 29,
   "metadata": {
    "_uuid": "2a50d6fd44985b8478c3513ad4183e290f7efecb"
   },
   "outputs": [
    {
     "data": {
      "text/plain": [
       "Index(['id', 'gender', 'age', 'hypertension', 'heart_disease', 'ever_married',\n",
       "       'work_type', 'Residence_type', 'avg_glucose_level', 'bmi'],\n",
       "      dtype='object')"
      ]
     },
     "execution_count": 29,
     "metadata": {},
     "output_type": "execute_result"
    }
   ],
   "source": [
    "train_data_without_smoke.loc[:,train_data_without_smoke.columns!='stroke'].columns"
   ]
  },
  {
   "cell_type": "code",
   "execution_count": 30,
   "metadata": {
    "_uuid": "3c6d2b3c2b370ab3faeacd1a1638308b8b40b3ad"
   },
   "outputs": [
    {
     "name": "stdout",
     "output_type": "stream",
     "text": [
      "ROS Input Data Shape for Smoke Data: (58940, 11)\n",
      "ROS Output Data Shape for Smoke Data: (58940,)\n"
     ]
    }
   ],
   "source": [
    "print ('ROS Input Data Shape for Smoke Data: {}'.format(X_resampled.shape))\n",
    "print ('ROS Output Data Shape for Smoke Data: {}'.format(y_resampled.shape))"
   ]
  },
  {
   "cell_type": "code",
   "execution_count": 32,
   "metadata": {
    "_uuid": "9ac9a2be4ad6233128c773e5fa569cf1a5fff3e8"
   },
   "outputs": [],
   "source": [
    "X_resampled_1, y_resampled_1 = ros.fit_sample(train_data_without_smoke.loc[:,train_data_without_smoke.columns!='stroke'], \n",
    "                                            train_data_without_smoke['stroke'])"
   ]
  },
  {
   "cell_type": "code",
   "execution_count": 33,
   "metadata": {
    "_uuid": "6d3b9ddc69536bb0f614048dc5aa68c0ce2beabd"
   },
   "outputs": [
    {
     "name": "stdout",
     "output_type": "stream",
     "text": [
      "ROS Input Data Shape for Non Smoke Data: (26294, 10)\n",
      "ROS Output Data Shape for Non Smoke Data: (26294,)\n"
     ]
    }
   ],
   "source": [
    "print ('ROS Input Data Shape for Non Smoke Data: {}'.format(X_resampled_1.shape))\n",
    "print ('ROS Output Data Shape for Non Smoke Data: {}'.format(y_resampled_1.shape))"
   ]
  },
  {
   "cell_type": "markdown",
   "metadata": {
    "_uuid": "94c81e04bf04563f41632d09e6998e2411abc64e"
   },
   "source": [
    "### Train Test Split of the balanced Data"
   ]
  },
  {
   "cell_type": "code",
   "execution_count": 34,
   "metadata": {
    "_uuid": "406e6a7b52daed5d7f78b56214772c00ab99930b"
   },
   "outputs": [
    {
     "name": "stdout",
     "output_type": "stream",
     "text": [
      "(47152, 11)\n",
      "(11788, 11)\n"
     ]
    }
   ],
   "source": [
    "X_train,X_test,y_train,y_test = train_test_split(X_resampled,y_resampled,test_size=0.2)\n",
    "print(X_train.shape)\n",
    "print(X_test.shape)"
   ]
  },
  {
   "cell_type": "code",
   "execution_count": 35,
   "metadata": {
    "_uuid": "ab814d8e9883976c0a40713fef6baf800b3af635"
   },
   "outputs": [
    {
     "name": "stdout",
     "output_type": "stream",
     "text": [
      "(21035, 10)\n",
      "(5259, 10)\n"
     ]
    }
   ],
   "source": [
    "X_train_1,X_test_1,y_train_1,y_test_1 = train_test_split(X_resampled_1,y_resampled_1,test_size=0.2)\n",
    "print(X_train_1.shape)\n",
    "print(X_test_1.shape)"
   ]
  },
  {
   "cell_type": "markdown",
   "metadata": {
    "_uuid": "abc5a96ddc60b8864a03f477adfe7f42dc7e7131"
   },
   "source": [
    "## Applying Model\n"
   ]
  },
  {
   "cell_type": "markdown",
   "metadata": {
    "_uuid": "4f6fe6079abab5f5505341cd7df31e377f82a582"
   },
   "source": [
    "### Decision Tree Classifier with Smoking Status"
   ]
  },
  {
   "cell_type": "code",
   "execution_count": 36,
   "metadata": {
    "_uuid": "d95109e26c73e8ea9e3a88671b504064fd97a249"
   },
   "outputs": [
    {
     "name": "stdout",
     "output_type": "stream",
     "text": [
      "              precision    recall  f1-score   support\n",
      "\n",
      "           0       1.00      0.98      0.99      5898\n",
      "           1       0.98      1.00      0.99      5890\n",
      "\n",
      "   micro avg       0.99      0.99      0.99     11788\n",
      "   macro avg       0.99      0.99      0.99     11788\n",
      "weighted avg       0.99      0.99      0.99     11788\n",
      "\n",
      "0.988293179504581\n",
      "[[5760  138]\n",
      " [   0 5890]]\n",
      "precision =  0.9771068347710683 \n",
      " recall =  1.0\n"
     ]
    },
    {
     "data": {
      "image/png": "[encoded data removed]",
      "text/plain": [
       "<Figure size 432x288 with 1 Axes>"
      ]
     },
     "metadata": {
      "needs_background": "light"
     },
     "output_type": "display_data"
    },
    {
     "name": "stdout",
     "output_type": "stream",
     "text": [
      "                   Importance\n",
      "age                  0.372635\n",
      "avg_glucose_level    0.215127\n",
      "id                   0.154974\n",
      "bmi                  0.142276\n",
      "smoking_status       0.027061\n",
      "work_type            0.025618\n",
      "Residence_type       0.015796\n",
      "hypertension         0.012930\n",
      "heart_disease        0.012899\n",
      "gender               0.011065\n",
      "ever_married         0.009618\n"
     ]
    }
   ],
   "source": [
    "dtree = DecisionTreeClassifier()\n",
    "dtree.fit(X_train,y_train)\n",
    "\n",
    "pred = dtree.predict(X_test)\n",
    "print(classification_report(y_test,pred))\n",
    "print (accuracy_score(y_test,pred))\n",
    "print (confusion_matrix(y_test,pred))\n",
    "\n",
    "precision = precision_score(y_test,pred)\n",
    "recall = recall_score(y_test,pred)\n",
    "print( 'precision = ', precision, '\\n', 'recall = ', recall)\n",
    "\n",
    "y_pred_proba = dtree.predict_proba(X_test)[::,1]\n",
    "fpr, tpr, _ = roc_curve(y_test,  y_pred_proba)\n",
    "auc = roc_auc_score(y_test, y_pred_proba)\n",
    "plt.plot(fpr,tpr,label=\"data 1, auc=\"+str(auc))\n",
    "plt.legend(loc=4)\n",
    "plt.show()\n",
    "\n",
    "impFeatures = pd.DataFrame(dtree.feature_importances_ ,index=train_data_with_smoke.loc[:,train_data_with_smoke.columns!='stroke'].columns,columns=['Importance']).sort_values(by='Importance',ascending=False)\n",
    "print (impFeatures)"
   ]
  },
  {
   "cell_type": "markdown",
   "metadata": {
    "_uuid": "890a7b49f3c6d75d69023e96a5375293bc1d8016"
   },
   "source": [
    "### Decision Tree Classifier without Smoking Status"
   ]
  },
  {
   "cell_type": "code",
   "execution_count": 37,
   "metadata": {
    "_uuid": "164c26969f723d5243a093011c0e4a4393a02166"
   },
   "outputs": [
    {
     "name": "stdout",
     "output_type": "stream",
     "text": [
      "              precision    recall  f1-score   support\n",
      "\n",
      "           0       1.00      0.99      0.99      2683\n",
      "           1       0.99      1.00      0.99      2576\n",
      "\n",
      "   micro avg       0.99      0.99      0.99      5259\n",
      "   macro avg       0.99      0.99      0.99      5259\n",
      "weighted avg       0.99      0.99      0.99      5259\n",
      "\n",
      "Accuracy: 0.9935348925651265\n",
      "COnfusion Matrix: \n",
      " [[2649   34]\n",
      " [   0 2576]]\n",
      "precision =  0.9869731800766284 \n",
      " recall =  1.0\n"
     ]
    },
    {
     "data": {
      "image/png": "[encoded data removed]",
      "text/plain": [
       "<Figure size 432x288 with 1 Axes>"
      ]
     },
     "metadata": {
      "needs_background": "light"
     },
     "output_type": "display_data"
    },
    {
     "name": "stdout",
     "output_type": "stream",
     "text": [
      "                   Importance\n",
      "age                  0.575189\n",
      "bmi                  0.156013\n",
      "avg_glucose_level    0.106945\n",
      "id                   0.089718\n",
      "work_type            0.020513\n",
      "gender               0.015352\n",
      "Residence_type       0.014975\n",
      "ever_married         0.014351\n",
      "hypertension         0.004281\n",
      "heart_disease        0.002662\n"
     ]
    }
   ],
   "source": [
    "dtree_nosmoke = DecisionTreeClassifier()\n",
    "dtree_nosmoke.fit(X_train_1,y_train_1)\n",
    "\n",
    "pred = dtree_nosmoke.predict(X_test_1)\n",
    "print(classification_report(y_test_1,pred))\n",
    "print ('Accuracy: {}'.format(accuracy_score(y_test_1,pred)))\n",
    "print ('COnfusion Matrix: \\n {}'.format(confusion_matrix(y_test_1,pred)))\n",
    "\n",
    "precision = precision_score(y_test_1,pred)\n",
    "recall = recall_score(y_test_1,pred)\n",
    "print( 'precision = ', precision, '\\n', 'recall = ', recall)\n",
    "\n",
    "y_pred_proba = dtree_nosmoke.predict_proba(X_test_1)[::,1]\n",
    "fpr, tpr, _ = roc_curve(y_test_1,  y_pred_proba)\n",
    "auc = roc_auc_score(y_test_1, y_pred_proba)\n",
    "plt.plot(fpr,tpr,label=\"data 1, auc=\"+str(auc))\n",
    "plt.legend(loc=4)\n",
    "plt.show()\n",
    "\n",
    "impFeatures = pd.DataFrame(dtree_nosmoke.feature_importances_ ,index=train_data_without_smoke.loc[:,train_data_without_smoke.columns!='stroke'].columns,columns=['Importance']).sort_values(by='Importance',ascending=False)\n",
    "print (impFeatures)"
   ]
  },
  {
   "cell_type": "markdown",
   "metadata": {
    "_uuid": "d1fa0497b9bc0011e6fb14a722cf71df9e9b7d15"
   },
   "source": [
    "### Logistic Regression Classifier with Smoking Status"
   ]
  },
  {
   "cell_type": "code",
   "execution_count": 38,
   "metadata": {
    "_uuid": "5d6ae47a174dce51aa0e18023054325a5319d1de"
   },
   "outputs": [
    {
     "name": "stderr",
     "output_type": "stream",
     "text": [
      "/home/monad/anaconda3/envs/tff/lib/python3.6/site-packages/sklearn/linear_model/logistic.py:432: FutureWarning: Default solver will be changed to 'lbfgs' in 0.22. Specify a solver to silence this warning.\n",
      "  FutureWarning)\n"
     ]
    },
    {
     "name": "stdout",
     "output_type": "stream",
     "text": [
      "              precision    recall  f1-score   support\n",
      "\n",
      "           0       0.77      0.73      0.75      5898\n",
      "           1       0.74      0.78      0.76      5890\n",
      "\n",
      "   micro avg       0.75      0.75      0.75     11788\n",
      "   macro avg       0.75      0.75      0.75     11788\n",
      "weighted avg       0.75      0.75      0.75     11788\n",
      "\n",
      "0.7519511367492365\n",
      "[[4287 1611]\n",
      " [1313 4577]]\n",
      "precision =  0.7396574014221073 \n",
      " recall =  0.7770797962648557\n"
     ]
    },
    {
     "data": {
      "image/png": "[encoded data removed]",
      "text/plain": [
       "<Figure size 432x288 with 1 Axes>"
      ]
     },
     "metadata": {
      "needs_background": "light"
     },
     "output_type": "display_data"
    },
    {
     "name": "stdout",
     "output_type": "stream",
     "text": [
      "                   Importance\n",
      "heart_disease        0.754075\n",
      "hypertension         0.467601\n",
      "Residence_type       0.094913\n",
      "age                  0.072166\n",
      "smoking_status       0.048979\n",
      "gender               0.047388\n",
      "work_type            0.023578\n",
      "avg_glucose_level    0.003924\n",
      "id                   0.000002\n",
      "bmi                 -0.008687\n",
      "ever_married        -0.049864\n"
     ]
    }
   ],
   "source": [
    "log = LogisticRegression(penalty='l2', C=0.1)\n",
    "log.fit(X_train,y_train)\n",
    "\n",
    "pred = log.predict(X_test)\n",
    "print(classification_report(y_test,pred))\n",
    "print (accuracy_score(y_test,pred))\n",
    "print (confusion_matrix(y_test,pred))\n",
    "\n",
    "precision = precision_score(y_test,pred)\n",
    "recall = recall_score(y_test,pred)\n",
    "print( 'precision = ', precision, '\\n', 'recall = ', recall)\n",
    "\n",
    "y_pred_proba = log.predict_proba(X_test)[::,1]\n",
    "fpr, tpr, _ = roc_curve(y_test,  y_pred_proba)\n",
    "auc = roc_auc_score(y_test, y_pred_proba)\n",
    "plt.plot(fpr,tpr,label=\"data 1, auc=\"+str(auc))\n",
    "plt.legend(loc=4)\n",
    "plt.show()\n",
    "impFeatures = pd.DataFrame(log.coef_[0] ,index=train_data_with_smoke.loc[:,train_data_with_smoke.columns!='stroke'].columns,columns=['Importance']).sort_values(by='Importance',ascending=False)\n",
    "print (impFeatures)"
   ]
  },
  {
   "cell_type": "markdown",
   "metadata": {
    "_uuid": "23d86ebda23c1e056d92510eb343558c1063b95d"
   },
   "source": [
    "### Logistic Regression Classifier without Smoking Status"
   ]
  },
  {
   "cell_type": "code",
   "execution_count": 39,
   "metadata": {
    "_uuid": "03ee573043dc8397d7e44da05cc1c2691082b284"
   },
   "outputs": [
    {
     "name": "stderr",
     "output_type": "stream",
     "text": [
      "/home/monad/anaconda3/envs/tff/lib/python3.6/site-packages/sklearn/linear_model/logistic.py:432: FutureWarning: Default solver will be changed to 'lbfgs' in 0.22. Specify a solver to silence this warning.\n",
      "  FutureWarning)\n"
     ]
    },
    {
     "name": "stdout",
     "output_type": "stream",
     "text": [
      "              precision    recall  f1-score   support\n",
      "\n",
      "           0       0.89      0.78      0.83      2683\n",
      "           1       0.80      0.90      0.84      2576\n",
      "\n",
      "   micro avg       0.84      0.84      0.84      5259\n",
      "   macro avg       0.84      0.84      0.84      5259\n",
      "weighted avg       0.84      0.84      0.84      5259\n",
      "\n",
      "0.8379920136908158\n",
      "[[2099  584]\n",
      " [ 268 2308]]\n",
      "precision =  0.7980636237897649 \n",
      " recall =  0.8959627329192547\n"
     ]
    },
    {
     "data": {
      "image/png": "[encoded data removed]",
      "text/plain": [
       "<Figure size 432x288 with 1 Axes>"
      ]
     },
     "metadata": {
      "needs_background": "light"
     },
     "output_type": "display_data"
    },
    {
     "name": "stdout",
     "output_type": "stream",
     "text": [
      "                   Importance\n",
      "heart_disease        0.817335\n",
      "gender               0.417129\n",
      "Residence_type       0.136523\n",
      "ever_married         0.077825\n",
      "age                  0.070657\n",
      "avg_glucose_level    0.003058\n",
      "id                   0.000002\n",
      "hypertension        -0.002053\n",
      "work_type           -0.004512\n",
      "bmi                 -0.011583\n"
     ]
    }
   ],
   "source": [
    "logg = LogisticRegression(penalty='l2', C=0.1)\n",
    "logg.fit(X_train_1,y_train_1)\n",
    "\n",
    "pred = logg.predict(X_test_1)\n",
    "print(classification_report(y_test_1,pred))\n",
    "print (accuracy_score(y_test_1,pred))\n",
    "print (confusion_matrix(y_test_1,pred))\n",
    "\n",
    "precision = precision_score(y_test_1,pred)\n",
    "recall = recall_score(y_test_1,pred)\n",
    "print( 'precision = ', precision, '\\n', 'recall = ', recall)\n",
    "\n",
    "y_pred_proba = logg.predict_proba(X_test_1)[::,1]\n",
    "fpr, tpr, _ = roc_curve(y_test_1,  y_pred_proba)\n",
    "auc = roc_auc_score(y_test_1, y_pred_proba)\n",
    "plt.plot(fpr,tpr,label=\"data 1, auc=\"+str(auc))\n",
    "plt.legend(loc=4)\n",
    "plt.show()\n",
    "\n",
    "impFeatures = pd.DataFrame(logg.coef_[0] ,index=train_data_without_smoke.loc[:,train_data_without_smoke.columns!='stroke'].columns,columns=['Importance']).sort_values(by='Importance',ascending=False)\n",
    "print (impFeatures)"
   ]
  },
  {
   "cell_type": "markdown",
   "metadata": {
    "_uuid": "96fa18e264c396433cc86bf37fa114d2b3354d22"
   },
   "source": [
    "### Random Forest Classifier with Smoking Status"
   ]
  },
  {
   "cell_type": "code",
   "execution_count": 40,
   "metadata": {
    "_uuid": "c767571bb134e6724bfa47c0c56b976d7e0298de"
   },
   "outputs": [
    {
     "name": "stdout",
     "output_type": "stream",
     "text": [
      "              precision    recall  f1-score   support\n",
      "\n",
      "           0       1.00      1.00      1.00      2683\n",
      "           1       1.00      1.00      1.00      2576\n",
      "\n",
      "   micro avg       1.00      1.00      1.00      5259\n",
      "   macro avg       1.00      1.00      1.00      5259\n",
      "weighted avg       1.00      1.00      1.00      5259\n",
      "\n",
      "0.9996196995626545\n",
      "[[2681    2]\n",
      " [   0 2576]]\n",
      "precision =  0.9992242048099301 \n",
      " recall =  1.0\n"
     ]
    },
    {
     "data": {
      "image/png": "[encoded data removed]",
      "text/plain": [
       "<Figure size 432x288 with 1 Axes>"
      ]
     },
     "metadata": {
      "needs_background": "light"
     },
     "output_type": "display_data"
    },
    {
     "name": "stdout",
     "output_type": "stream",
     "text": [
      "                   Importance\n",
      "age                  0.371612\n",
      "bmi                  0.171516\n",
      "avg_glucose_level    0.120925\n",
      "id                   0.099936\n",
      "work_type            0.090305\n",
      "ever_married         0.073590\n",
      "heart_disease        0.026872\n",
      "gender               0.016395\n",
      "Residence_type       0.015243\n",
      "hypertension         0.013606\n"
     ]
    }
   ],
   "source": [
    "ran = RandomForestClassifier(n_estimators=50,random_state=0)\n",
    "ran.fit(X_train_1,y_train_1)\n",
    "\n",
    "pred = ran.predict(X_test_1)\n",
    "print(classification_report(y_test_1,pred))\n",
    "print (accuracy_score(y_test_1,pred))\n",
    "print (confusion_matrix(y_test_1,pred))\n",
    "\n",
    "precision = precision_score(y_test_1,pred)\n",
    "recall = recall_score(y_test_1,pred)\n",
    "print( 'precision = ', precision, '\\n', 'recall = ', recall)\n",
    "\n",
    "y_pred_proba = ran.predict_proba(X_test_1)[::,1]\n",
    "fpr, tpr, _ = roc_curve(y_test_1,  y_pred_proba)\n",
    "auc = roc_auc_score(y_test_1, y_pred_proba)\n",
    "plt.plot(fpr,tpr,label=\"data 1, auc=\"+str(auc))\n",
    "plt.legend(loc=4)\n",
    "plt.show()\n",
    "\n",
    "\n",
    "impFeatures = pd.DataFrame((ran.feature_importances_) ,index=train_data_without_smoke.loc[:,train_data_without_smoke.columns!='stroke'].columns,columns=['Importance']).sort_values(by='Importance',ascending=False)\n",
    "print (impFeatures)"
   ]
  },
  {
   "cell_type": "markdown",
   "metadata": {
    "_uuid": "14d9dc610a5d89d697bb8da8fb1ddb7f8c6f3ea7"
   },
   "source": [
    "### Feature Importance with random Forest"
   ]
  },
  {
   "cell_type": "markdown",
   "metadata": {
    "_uuid": "0b721c7e8eb059c865deaa8b6b0d01ba150ce15d"
   },
   "source": [
    "#### So we can see that Age, hypertension, heart disease, Residence type, Avg Glucose level, BMI and Smoking status comes as significate variable here. A few of them are intuitive as well, but Gender, Marriage status and Work Status are some which we can ignore."
   ]
  },
  {
   "cell_type": "code",
   "execution_count": 41,
   "metadata": {
    "_uuid": "72122de617a55aea967764b8a4d2d1ac79d0faf2"
   },
   "outputs": [
    {
     "data": {
      "text/plain": [
       "<matplotlib.axes._subplots.AxesSubplot at 0x7f24da3e8e10>"
      ]
     },
     "execution_count": 41,
     "metadata": {},
     "output_type": "execute_result"
    },
    {
     "data": {
      "image/png": "[encoded data removed]",
      "text/plain": [
       "<Figure size 432x288 with 1 Axes>"
      ]
     },
     "metadata": {
      "needs_background": "light"
     },
     "output_type": "display_data"
    }
   ],
   "source": [
    "feat_importances = pd.Series(ran.feature_importances_, index=train_data_without_smoke.loc[:,train_data_without_smoke.columns!='stroke'].columns)\n",
    "feat_importances.plot(kind='barh')"
   ]
  },
  {
   "cell_type": "code",
   "execution_count": 42,
   "metadata": {
    "_uuid": "9c8e783b25e63e437929587fa9c9709052810661"
   },
   "outputs": [],
   "source": [
    "test_data[\"bmi\"]=test_data[\"bmi\"].fillna(test_data[\"bmi\"].mean())"
   ]
  },
  {
   "cell_type": "code",
   "execution_count": 43,
   "metadata": {
    "_uuid": "284a534e0f4e17b5af0da344ab0a25d7fbe972da"
   },
   "outputs": [],
   "source": [
    "test_data.drop(axis=1,columns=['smoking_status'],inplace=True)"
   ]
  },
  {
   "cell_type": "code",
   "execution_count": 44,
   "metadata": {
    "_uuid": "9096b784c89d49f40a7a4f8097d61b8e9068f864"
   },
   "outputs": [],
   "source": [
    "label = LabelEncoder()\n",
    "test_data['gender'] = label.fit_transform(test_data['gender'])\n",
    "test_data['ever_married'] = label.fit_transform(test_data['ever_married'])\n",
    "test_data['work_type']= label.fit_transform(test_data['work_type'])\n",
    "test_data['Residence_type']= label.fit_transform(test_data['Residence_type'])\n",
    "pred = ran.predict(test_data)"
   ]
  },
  {
   "cell_type": "code",
   "execution_count": 45,
   "metadata": {
    "_uuid": "6541d0ed795fbc91292828902c5ca4fa3bca678c"
   },
   "outputs": [],
   "source": [
    "prediction = pd.DataFrame(pred,columns=['Pred'])"
   ]
  },
  {
   "cell_type": "markdown",
   "metadata": {
    "_uuid": "6efed9c35d9c467eff75af1a30e14f47fcd38426"
   },
   "source": [
    "### Predicted Value. Model Predicted 10 strokes for the test data"
   ]
  },
  {
   "cell_type": "code",
   "execution_count": 46,
   "metadata": {
    "_uuid": "f1085b4d855509a13d1632755a4fb280f2c258aa"
   },
   "outputs": [
    {
     "data": {
      "text/plain": [
       "0    18591\n",
       "1       10\n",
       "Name: Pred, dtype: int64"
      ]
     },
     "execution_count": 46,
     "metadata": {},
     "output_type": "execute_result"
    }
   ],
   "source": [
    "prediction['Pred'].value_counts()"
   ]
  },
  {
   "cell_type": "markdown",
   "metadata": {
    "_uuid": "5175a646da4a8246b3a867bcefa49ca9f891b0b7"
   },
   "source": [
    "### Conclusion\n",
    "Overall we used logistic regression to forecast weather a patient can have stroke or not. We has to deal with imbalanced data which is common in such healthcare problems. For improving the model we could try out other ways of dealing with imbalanced data like SMOTE.\n",
    "\n",
    "Also we could have dealt with missing data of smoke status in other ways as well for e.g. Age less than 10 or 15 years patients could have been tagged as never_smoked etc.\n",
    "\n",
    "Finally just one thought on why the 2 models were so different, one of the reasons could be the age distribution of the 2 data set. Median age of Smoke dataset was 48 while that of Non smoke dataset was 21. These are some ways Logistic model could have been improved."
   ]
  },
  {
   "cell_type": "code",
   "execution_count": null,
   "metadata": {
    "_uuid": "da06d083e8ff46fcd5bc1b40eefe4f394746deed"
   },
   "outputs": [],
   "source": []
  },
  {
   "cell_type": "code",
   "execution_count": 43,
   "metadata": {
    "_uuid": "dec002add99e4814c67a772696ba992317e54a47"
   },
   "outputs": [],
   "source": []
  }
 ],
 "metadata": {
  "kernelspec": {
   "display_name": "Python 3",
   "language": "python",
   "name": "python3"
  },
  "language_info": {
   "codemirror_mode": {
    "name": "ipython",
    "version": 3
   },
   "file_extension": ".py",
   "mimetype": "text/x-python",
   "name": "python",
   "nbconvert_exporter": "python",
   "pygments_lexer": "ipython3",
   "version": "3.6.10"
  }
 },
 "nbformat": 4,
 "nbformat_minor": 1
}
